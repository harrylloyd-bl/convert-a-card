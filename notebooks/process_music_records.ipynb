{
 "cells": [
  {
   "cell_type": "code",
   "execution_count": 2,
   "id": "30e5a77c-fe25-4218-87a0-e1b4b38cbc36",
   "metadata": {},
   "outputs": [],
   "source": [
    "import sys\n",
    "if \"../\" not in sys.path:\n",
    "    sys.path.append(\"../\")\n",
    "\n",
    "import pickle\n",
    "import re\n",
    "\n",
    "import pandas as pd\n",
    "from pymarc import Record\n",
    "from numpy import nan"
   ]
  },
  {
   "cell_type": "markdown",
   "id": "18309085-c529-4411-95de-bc12a3b6c0ae",
   "metadata": {},
   "source": [
    "### Process raw data into query terms"
   ]
  },
  {
   "cell_type": "code",
   "execution_count": null,
   "id": "0d3fa9fa-64d5-48fb-9481-3363ae4882b5",
   "metadata": {},
   "outputs": [],
   "source": [
    "raw_music_df = pd.read_csv(\"..\\\\data\\\\raw\\\\VOC_results.csv\", index_col=0, dtype={4:str, 9:str, 10:str, 11:str})"
   ]
  },
  {
   "cell_type": "code",
   "execution_count": null,
   "id": "ac7c3dce-4f0c-4a62-a4da-5a6401aed6e4",
   "metadata": {},
   "outputs": [],
   "source": [
    "raw_music_df.shape"
   ]
  },
  {
   "cell_type": "code",
   "execution_count": null,
   "id": "3a4bd69e-76bd-469c-84ed-23cd5e58ecbb",
   "metadata": {},
   "outputs": [],
   "source": [
    "raw_music_df.dtypes"
   ]
  },
  {
   "cell_type": "code",
   "execution_count": null,
   "id": "1dd4cdef-a249-4074-bc4d-bc3468a6801a",
   "metadata": {},
   "outputs": [],
   "source": [
    "music_df = raw_music_df.drop(\n",
    "    columns=[\"300 a\", \"650\", \"650.1\", \"650.2\", \"650.3\", \"650.4\", \"650.5\", \"852 ab\", \"852 j\", \"852 j.1\"]\n",
    ").copy().rename(columns={\"100\": \"100_raw\", \"245\": \"245_raw\", \"260 abc\":\"260\", \"264 abc\": \"264\"})\n",
    "music_df[\"260_raw\"] = music_df[\"260\"].replace(nan, \"\") + music_df[\"264\"].replace(nan, \"\")\n",
    "music_df.drop(columns=[\"260\", \"264\"], inplace=True)"
   ]
  },
  {
   "cell_type": "code",
   "execution_count": null,
   "id": "a704670b-bc9a-487f-b3c8-1e33345329a8",
   "metadata": {},
   "outputs": [],
   "source": [
    "music_df[\"100\"] = music_df[\"100_raw\"].str.split(\",$\", regex=False, expand=True, n=1)[0].str.lstrip(\"$a\").str.rstrip(\",\")\n",
    "music_df[\"100\"]"
   ]
  },
  {
   "cell_type": "code",
   "execution_count": null,
   "id": "2266f2fc-14af-46dd-925f-2b36c22c49a0",
   "metadata": {},
   "outputs": [],
   "source": [
    "music_df[\"245_raw\"].str.split(re.compile(r\":\\$\"), regex=True, expand=True)"
   ]
  },
  {
   "cell_type": "code",
   "execution_count": null,
   "id": "6568ad4a-3e76-4c6d-a7de-96df857d255c",
   "metadata": {},
   "outputs": [],
   "source": [
    "music_df[\"245\"] = music_df[\"245_raw\"].str.split(r\"[,/;=:\\.\\!\\?]\\$\", regex=True, expand=True, n=1)[0].str.lstrip(\"$a\")\n",
    "music_df[\"245\"]"
   ]
  },
  {
   "cell_type": "code",
   "execution_count": null,
   "id": "bc646d13-0bb4-4089-bb66-3ff9e831df18",
   "metadata": {},
   "outputs": [],
   "source": [
    "music_df[\"245\"][music_df[\"245\"].str.contains(\"$\", regex=False)]"
   ]
  },
  {
   "cell_type": "code",
   "execution_count": null,
   "id": "dd32d346-1f1c-4d8c-9a15-30ce8709368e",
   "metadata": {},
   "outputs": [],
   "source": [
    "def find_date(date, pattern):\n",
    "    date = pattern.search(date)\n",
    "    if date:\n",
    "        return date.group()\n",
    "    else:\n",
    "        return nan\n",
    "\n",
    "music_df[\"260\"] = music_df[\"260_raw\"].apply(lambda x: find_date(x, re.compile(r\"(?<=\\$cc)19[0-9]{2,2}\")))"
   ]
  },
  {
   "cell_type": "code",
   "execution_count": null,
   "id": "a82dffbc-1dc7-451a-8433-2dad1a900e9f",
   "metadata": {},
   "outputs": [],
   "source": [
    "music_df.shape"
   ]
  },
  {
   "cell_type": "code",
   "execution_count": null,
   "id": "b3f4cc61-2acc-4cf8-9238-4ac292f9a323",
   "metadata": {},
   "outputs": [],
   "source": [
    "weights = (music_df[\"260\"].value_counts()/music_df[\"260\"].value_counts().sum()).rename(\"weights_col\")\n",
    "music_df[\"weights\"] = music_df.merge(weights, on=\"260\", how=\"left\")[\"weights_col\"].set_axis(music_df.index, axis=0)  # reproducible operation"
   ]
  },
  {
   "cell_type": "code",
   "execution_count": null,
   "id": "a1876a66-9e3b-4474-ba46-cfb27e0a4c6c",
   "metadata": {},
   "outputs": [],
   "source": [
    "music_df"
   ]
  },
  {
   "cell_type": "code",
   "execution_count": null,
   "id": "b2d20d66-c6ed-4d86-aee3-77cb23a97ab4",
   "metadata": {},
   "outputs": [],
   "source": [
    "# music_df.to_csv(\"..\\\\data\\\\processed\\\\music_records.csv\")"
   ]
  },
  {
   "cell_type": "markdown",
   "id": "34c042e1-29c8-4f7c-9b55-171db876e583",
   "metadata": {},
   "source": [
    "### Sampling and verifying integrity of year distribution"
   ]
  },
  {
   "cell_type": "code",
   "execution_count": null,
   "id": "ba8f383e-02ea-4e59-b3eb-817a4474a332",
   "metadata": {},
   "outputs": [],
   "source": [
    "complete_music_df = pd.read_csv(\"..\\\\data\\\\processed\\\\music_records.csv\", index_col=0, dtype={\"260\": str})\n",
    "music_df = complete_music_df.sample(n=10000, weights=\"weights\", axis=0, random_state=1234)"
   ]
  },
  {
   "cell_type": "code",
   "execution_count": null,
   "id": "cbce4b99-8ad5-4bd8-9e3c-cfe0917d23b9",
   "metadata": {},
   "outputs": [],
   "source": [
    "music_df[\"260\"].astype(float).hist(bins=15).set_xlim(1900, 1990)"
   ]
  },
  {
   "cell_type": "code",
   "execution_count": null,
   "id": "9611390e-2aae-4f51-a80a-1a8ec5e23317",
   "metadata": {},
   "outputs": [],
   "source": [
    "music_df[\"260\"].astype(float).hist(bins=20)"
   ]
  },
  {
   "cell_type": "code",
   "execution_count": null,
   "id": "6af4d39e-57dc-40db-9aff-6c78874d67ba",
   "metadata": {},
   "outputs": [],
   "source": [
    "music_df[\"260 abc\"].value_counts().iloc[50:100]"
   ]
  },
  {
   "cell_type": "code",
   "execution_count": null,
   "id": "810b2777-a8b7-4cbd-a846-27cf6548abae",
   "metadata": {},
   "outputs": [],
   "source": [
    "music_df[\"300 a\"].value_counts()"
   ]
  },
  {
   "cell_type": "code",
   "execution_count": null,
   "id": "384415ac-4981-477a-8d62-4f71450d6b6f",
   "metadata": {},
   "outputs": [],
   "source": [
    "# https://www.compart.com/en/unicode/U+FF04  Full width dollar symbol\n",
    "# music_df.apply(lambda x: x.str.replace(\"$\", \"＄\"), axis=1).head()"
   ]
  },
  {
   "cell_type": "markdown",
   "id": "46079804-e679-4e72-83b7-7a4645eca524",
   "metadata": {},
   "source": [
    "### Examine results"
   ]
  },
  {
   "cell_type": "code",
   "execution_count": 63,
   "id": "7bcde222-d07f-4566-96bc-a12de7dba706",
   "metadata": {},
   "outputs": [],
   "source": [
    "oclc_music_df = pickle.load(open(\"..\\\\data\\\\processed\\\\10k_music_records.p\", \"rb\"))"
   ]
  },
  {
   "cell_type": "code",
   "execution_count": 64,
   "id": "a30e3e6f-04ac-4d66-a34b-3918aac86307",
   "metadata": {},
   "outputs": [
    {
     "data": {
      "text/html": [
       "<div>\n",
       "<style scoped>\n",
       "    .dataframe tbody tr th:only-of-type {\n",
       "        vertical-align: middle;\n",
       "    }\n",
       "\n",
       "    .dataframe tbody tr th {\n",
       "        vertical-align: top;\n",
       "    }\n",
       "\n",
       "    .dataframe thead th {\n",
       "        text-align: right;\n",
       "    }\n",
       "</style>\n",
       "<table border=\"1\" class=\"dataframe\">\n",
       "  <thead>\n",
       "    <tr style=\"text-align: right;\">\n",
       "      <th></th>\n",
       "      <th>100_raw</th>\n",
       "      <th>245_raw</th>\n",
       "      <th>260_raw</th>\n",
       "      <th>100</th>\n",
       "      <th>245</th>\n",
       "      <th>260</th>\n",
       "      <th>weights</th>\n",
       "      <th>brief_bibs</th>\n",
       "      <th>worldcat_matches</th>\n",
       "    </tr>\n",
       "    <tr>\n",
       "      <th>001</th>\n",
       "      <th></th>\n",
       "      <th></th>\n",
       "      <th></th>\n",
       "      <th></th>\n",
       "      <th></th>\n",
       "      <th></th>\n",
       "      <th></th>\n",
       "      <th></th>\n",
       "      <th></th>\n",
       "    </tr>\n",
       "  </thead>\n",
       "  <tbody>\n",
       "    <tr>\n",
       "      <th>5078115</th>\n",
       "      <td>$aLillenas, Haldor.</td>\n",
       "      <td>$aGod save America.</td>\n",
       "      <td>$cc1945.</td>\n",
       "      <td>Lillenas, Haldor.</td>\n",
       "      <td>God save America.</td>\n",
       "      <td>1945</td>\n",
       "      <td>0.014506</td>\n",
       "      <td>{'numberOfRecords': 1, 'briefRecords': [{'oclc...</td>\n",
       "      <td>[]</td>\n",
       "    </tr>\n",
       "    <tr>\n",
       "      <th>5160161</th>\n",
       "      <td>$aDandurand, J. L.</td>\n",
       "      <td>$aWhy didn't you leave me go :$bWhy are you so...</td>\n",
       "      <td>$cc1922.</td>\n",
       "      <td>Dandurand, J. L.</td>\n",
       "      <td>Why didn't you leave me go</td>\n",
       "      <td>1922</td>\n",
       "      <td>0.021366</td>\n",
       "      <td>{'numberOfRecords': 2, 'briefRecords': [{'oclc...</td>\n",
       "      <td>[]</td>\n",
       "    </tr>\n",
       "    <tr>\n",
       "      <th>5124972</th>\n",
       "      <td>$aDelettre, Jean.</td>\n",
       "      <td>$aParle O moi d'autre chose, There's no more y...</td>\n",
       "      <td>$cc1934.</td>\n",
       "      <td>Delettre, Jean.</td>\n",
       "      <td>Parle O moi d'autre chose, There's no more you...</td>\n",
       "      <td>1934</td>\n",
       "      <td>0.018400</td>\n",
       "      <td>{'numberOfRecords': 0}</td>\n",
       "      <td>[]</td>\n",
       "    </tr>\n",
       "    <tr>\n",
       "      <th>5196595</th>\n",
       "      <td>$aSquires, Harry D.</td>\n",
       "      <td>$aI don't want to be left all alone.</td>\n",
       "      <td>$cc1953.</td>\n",
       "      <td>Squires, Harry D.</td>\n",
       "      <td>I don't want to be left all alone.</td>\n",
       "      <td>1953</td>\n",
       "      <td>0.019387</td>\n",
       "      <td>{'numberOfRecords': 1, 'briefRecords': [{'oclc...</td>\n",
       "      <td>[]</td>\n",
       "    </tr>\n",
       "    <tr>\n",
       "      <th>5195339</th>\n",
       "      <td>$aCuriel, Federico,$d-1985.</td>\n",
       "      <td>$aHoy me quiero emborrachar :$bCancion Ranchera.</td>\n",
       "      <td>$cc1950.</td>\n",
       "      <td>Curiel, Federico</td>\n",
       "      <td>Hoy me quiero emborrachar</td>\n",
       "      <td>1950</td>\n",
       "      <td>0.015361</td>\n",
       "      <td>{'numberOfRecords': 1, 'briefRecords': [{'oclc...</td>\n",
       "      <td>[]</td>\n",
       "    </tr>\n",
       "    <tr>\n",
       "      <th>...</th>\n",
       "      <td>...</td>\n",
       "      <td>...</td>\n",
       "      <td>...</td>\n",
       "      <td>...</td>\n",
       "      <td>...</td>\n",
       "      <td>...</td>\n",
       "      <td>...</td>\n",
       "      <td>...</td>\n",
       "      <td>...</td>\n",
       "    </tr>\n",
       "    <tr>\n",
       "      <th>5224059</th>\n",
       "      <td>$aCharleu, Lulu.</td>\n",
       "      <td>$aParis-Morvan /$cLulu Charleu ; Guy Bertret.</td>\n",
       "      <td>$cc1964.</td>\n",
       "      <td>Charleu, Lulu.</td>\n",
       "      <td>Paris-Morvan</td>\n",
       "      <td>1964</td>\n",
       "      <td>0.020662</td>\n",
       "      <td>{'numberOfRecords': 2, 'briefRecords': [{'oclc...</td>\n",
       "      <td>[]</td>\n",
       "    </tr>\n",
       "    <tr>\n",
       "      <th>5175069</th>\n",
       "      <td>$aNacho, Tata,$d1894-1968.</td>\n",
       "      <td>$aCapullito de Rosa.</td>\n",
       "      <td>$cc1964.</td>\n",
       "      <td>Nacho, Tata</td>\n",
       "      <td>Capullito de Rosa.</td>\n",
       "      <td>1964</td>\n",
       "      <td>0.020662</td>\n",
       "      <td>{'numberOfRecords': 1, 'briefRecords': [{'oclc...</td>\n",
       "      <td>[]</td>\n",
       "    </tr>\n",
       "    <tr>\n",
       "      <th>5064159</th>\n",
       "      <td>$aDominguez, Armando.</td>\n",
       "      <td>$aDestino :$bCancion - Bolero.</td>\n",
       "      <td>$cc1945.</td>\n",
       "      <td>Dominguez, Armando.</td>\n",
       "      <td>Destino</td>\n",
       "      <td>1945</td>\n",
       "      <td>0.014506</td>\n",
       "      <td>{'numberOfRecords': 1, 'briefRecords': [{'oclc...</td>\n",
       "      <td>[]</td>\n",
       "    </tr>\n",
       "    <tr>\n",
       "      <th>5067035</th>\n",
       "      <td>$aRoma, Caro,$d1866-1937.</td>\n",
       "      <td>$aAngel-cake.</td>\n",
       "      <td>$cc1928.</td>\n",
       "      <td>Roma, Caro</td>\n",
       "      <td>Angel-cake.</td>\n",
       "      <td>1928</td>\n",
       "      <td>0.020818</td>\n",
       "      <td>{'numberOfRecords': 1, 'briefRecords': [{'oclc...</td>\n",
       "      <td>[]</td>\n",
       "    </tr>\n",
       "    <tr>\n",
       "      <th>5145985</th>\n",
       "      <td>$aLeech, P.</td>\n",
       "      <td>$aThere comes a call :$bChoral March.</td>\n",
       "      <td>$cc1931.</td>\n",
       "      <td>Leech, P.</td>\n",
       "      <td>There comes a call</td>\n",
       "      <td>1931</td>\n",
       "      <td>0.019162</td>\n",
       "      <td>{'numberOfRecords': 1, 'briefRecords': [{'oclc...</td>\n",
       "      <td>[]</td>\n",
       "    </tr>\n",
       "  </tbody>\n",
       "</table>\n",
       "<p>10000 rows × 9 columns</p>\n",
       "</div>"
      ],
      "text/plain": [
       "                             100_raw  \\\n",
       "001                                    \n",
       "5078115          $aLillenas, Haldor.   \n",
       "5160161           $aDandurand, J. L.   \n",
       "5124972            $aDelettre, Jean.   \n",
       "5196595          $aSquires, Harry D.   \n",
       "5195339  $aCuriel, Federico,$d-1985.   \n",
       "...                              ...   \n",
       "5224059             $aCharleu, Lulu.   \n",
       "5175069   $aNacho, Tata,$d1894-1968.   \n",
       "5064159        $aDominguez, Armando.   \n",
       "5067035    $aRoma, Caro,$d1866-1937.   \n",
       "5145985                  $aLeech, P.   \n",
       "\n",
       "                                                   245_raw   260_raw  \\\n",
       "001                                                                    \n",
       "5078115                                $aGod save America.  $cc1945.   \n",
       "5160161  $aWhy didn't you leave me go :$bWhy are you so...  $cc1922.   \n",
       "5124972  $aParle O moi d'autre chose, There's no more y...  $cc1934.   \n",
       "5196595               $aI don't want to be left all alone.  $cc1953.   \n",
       "5195339   $aHoy me quiero emborrachar :$bCancion Ranchera.  $cc1950.   \n",
       "...                                                    ...       ...   \n",
       "5224059      $aParis-Morvan /$cLulu Charleu ; Guy Bertret.  $cc1964.   \n",
       "5175069                               $aCapullito de Rosa.  $cc1964.   \n",
       "5064159                     $aDestino :$bCancion - Bolero.  $cc1945.   \n",
       "5067035                                      $aAngel-cake.  $cc1928.   \n",
       "5145985              $aThere comes a call :$bChoral March.  $cc1931.   \n",
       "\n",
       "                         100  \\\n",
       "001                            \n",
       "5078115    Lillenas, Haldor.   \n",
       "5160161     Dandurand, J. L.   \n",
       "5124972      Delettre, Jean.   \n",
       "5196595    Squires, Harry D.   \n",
       "5195339     Curiel, Federico   \n",
       "...                      ...   \n",
       "5224059       Charleu, Lulu.   \n",
       "5175069          Nacho, Tata   \n",
       "5064159  Dominguez, Armando.   \n",
       "5067035           Roma, Caro   \n",
       "5145985            Leech, P.   \n",
       "\n",
       "                                                       245   260   weights  \\\n",
       "001                                                                          \n",
       "5078115                                  God save America.  1945  0.014506   \n",
       "5160161                        Why didn't you leave me go   1922  0.021366   \n",
       "5124972  Parle O moi d'autre chose, There's no more you...  1934  0.018400   \n",
       "5196595                 I don't want to be left all alone.  1953  0.019387   \n",
       "5195339                         Hoy me quiero emborrachar   1950  0.015361   \n",
       "...                                                    ...   ...       ...   \n",
       "5224059                                      Paris-Morvan   1964  0.020662   \n",
       "5175069                                 Capullito de Rosa.  1964  0.020662   \n",
       "5064159                                           Destino   1945  0.014506   \n",
       "5067035                                        Angel-cake.  1928  0.020818   \n",
       "5145985                                There comes a call   1931  0.019162   \n",
       "\n",
       "                                                brief_bibs worldcat_matches  \n",
       "001                                                                          \n",
       "5078115  {'numberOfRecords': 1, 'briefRecords': [{'oclc...               []  \n",
       "5160161  {'numberOfRecords': 2, 'briefRecords': [{'oclc...               []  \n",
       "5124972                             {'numberOfRecords': 0}               []  \n",
       "5196595  {'numberOfRecords': 1, 'briefRecords': [{'oclc...               []  \n",
       "5195339  {'numberOfRecords': 1, 'briefRecords': [{'oclc...               []  \n",
       "...                                                    ...              ...  \n",
       "5224059  {'numberOfRecords': 2, 'briefRecords': [{'oclc...               []  \n",
       "5175069  {'numberOfRecords': 1, 'briefRecords': [{'oclc...               []  \n",
       "5064159  {'numberOfRecords': 1, 'briefRecords': [{'oclc...               []  \n",
       "5067035  {'numberOfRecords': 1, 'briefRecords': [{'oclc...               []  \n",
       "5145985  {'numberOfRecords': 1, 'briefRecords': [{'oclc...               []  \n",
       "\n",
       "[10000 rows x 9 columns]"
      ]
     },
     "execution_count": 64,
     "metadata": {},
     "output_type": "execute_result"
    }
   ],
   "source": [
    "oclc_music_df"
   ]
  },
  {
   "cell_type": "code",
   "execution_count": 69,
   "id": "49509fa1-4a28-4c0b-9536-97a0c020512e",
   "metadata": {},
   "outputs": [
    {
     "data": {
      "text/html": [
       "<div>\n",
       "<style scoped>\n",
       "    .dataframe tbody tr th:only-of-type {\n",
       "        vertical-align: middle;\n",
       "    }\n",
       "\n",
       "    .dataframe tbody tr th {\n",
       "        vertical-align: top;\n",
       "    }\n",
       "\n",
       "    .dataframe thead th {\n",
       "        text-align: right;\n",
       "    }\n",
       "</style>\n",
       "<table border=\"1\" class=\"dataframe\">\n",
       "  <thead>\n",
       "    <tr style=\"text-align: right;\">\n",
       "      <th></th>\n",
       "      <th>100_raw</th>\n",
       "      <th>245_raw</th>\n",
       "      <th>260_raw</th>\n",
       "      <th>100</th>\n",
       "      <th>245</th>\n",
       "      <th>260</th>\n",
       "      <th>weights</th>\n",
       "      <th>brief_bibs</th>\n",
       "      <th>worldcat_matches</th>\n",
       "    </tr>\n",
       "    <tr>\n",
       "      <th>001</th>\n",
       "      <th></th>\n",
       "      <th></th>\n",
       "      <th></th>\n",
       "      <th></th>\n",
       "      <th></th>\n",
       "      <th></th>\n",
       "      <th></th>\n",
       "      <th></th>\n",
       "      <th></th>\n",
       "    </tr>\n",
       "  </thead>\n",
       "  <tbody>\n",
       "  </tbody>\n",
       "</table>\n",
       "</div>"
      ],
      "text/plain": [
       "Empty DataFrame\n",
       "Columns: [100_raw, 245_raw, 260_raw, 100, 245, 260, weights, brief_bibs, worldcat_matches]\n",
       "Index: []"
      ]
     },
     "execution_count": 69,
     "metadata": {},
     "output_type": "execute_result"
    }
   ],
   "source": [
    "# check no errors during API calls\n",
    "def find_err(cell):\n",
    "    if type(cell) == str:\n",
    "        return True\n",
    "    else:\n",
    "        return False\n",
    "\n",
    "oclc_music_df[oclc_music_df[\"brief_bibs\"].apply(lambda x: find_err(x))]"
   ]
  },
  {
   "cell_type": "code",
   "execution_count": 89,
   "id": "6692ad76-204f-4b07-a5fa-a1da5619c80c",
   "metadata": {},
   "outputs": [],
   "source": [
    "def remove_ukmgb(brief_bib):\n",
    "    if not brief_bib or brief_bib['numberOfRecords'] == 0:\n",
    "        return brief_bib\n",
    "    \n",
    "    else:\n",
    "        no_ukmgb = [r for r in brief_bib['briefRecords'] if r['catalogingInfo']['catalogingAgency'] != 'UKMGB']\n",
    "        clean_brief_bib = {\n",
    "            'numberOfRecords': len(no_ukmgb),\n",
    "            'briefRecords': no_ukmgb\n",
    "        }\n",
    "        \n",
    "    return clean_brief_bib\n",
    "\n",
    "def find_cat_agency(brief_bib):\n",
    "    if not brief_bib or brief_bib['numberOfRecords'] == 0:\n",
    "        return []\n",
    "    else:\n",
    "        cat_agencies = [r['catalogingInfo']['catalogingAgency'] for r in brief_bib['briefRecords']]\n",
    "        \n",
    "    return cat_agencies"
   ]
  },
  {
   "cell_type": "code",
   "execution_count": 95,
   "id": "b572c231-c9d3-4d29-b3dc-81a9f3d4a167",
   "metadata": {},
   "outputs": [],
   "source": [
    "cat_agencies = oclc_music_df[\"brief_bibs_no_ukmgb\"].apply(lambda x: find_cat_agency(x))"
   ]
  },
  {
   "cell_type": "code",
   "execution_count": 96,
   "id": "135ffc82-b38f-44fc-a842-99786598498a",
   "metadata": {},
   "outputs": [
    {
     "data": {
      "text/plain": [
       "INT      1601\n",
       "AU@       758\n",
       "BDF       313\n",
       "UBY       304\n",
       "ERD       265\n",
       "DKDLA     194\n",
       "MCBBM     166\n",
       "JRK       136\n",
       "YOU       128\n",
       "S3O       120\n",
       "AZS       104\n",
       "BGU       104\n",
       "EYM        88\n",
       "CLE        85\n",
       "DRB        83\n",
       "S#L        80\n",
       "CGP        71\n",
       "IYU        68\n",
       "NZ1        67\n",
       "NLC        65\n",
       "Name: count, dtype: int64"
      ]
     },
     "execution_count": 96,
     "metadata": {},
     "output_type": "execute_result"
    }
   ],
   "source": [
    "pd.Series(cat_agencies.sum()).value_counts().head(20)"
   ]
  },
  {
   "cell_type": "code",
   "execution_count": 97,
   "id": "a70d3aed-7cbd-4da6-9bda-785380c2b07c",
   "metadata": {},
   "outputs": [
    {
     "data": {
      "text/plain": [
       "001\n",
       "5078115           {'numberOfRecords': 0, 'briefRecords': []}\n",
       "5160161           {'numberOfRecords': 0, 'briefRecords': []}\n",
       "5124972                               {'numberOfRecords': 0}\n",
       "5196595           {'numberOfRecords': 0, 'briefRecords': []}\n",
       "5195339           {'numberOfRecords': 0, 'briefRecords': []}\n",
       "                                 ...                        \n",
       "5224059    {'numberOfRecords': 1, 'briefRecords': [{'oclc...\n",
       "5175069           {'numberOfRecords': 0, 'briefRecords': []}\n",
       "5064159           {'numberOfRecords': 0, 'briefRecords': []}\n",
       "5067035           {'numberOfRecords': 0, 'briefRecords': []}\n",
       "5145985           {'numberOfRecords': 0, 'briefRecords': []}\n",
       "Name: brief_bibs_no_ukmgb, Length: 10000, dtype: object"
      ]
     },
     "execution_count": 97,
     "metadata": {},
     "output_type": "execute_result"
    }
   ],
   "source": [
    "oclc_music_df[\"brief_bibs_no_ukmgb\"]"
   ]
  },
  {
   "cell_type": "code",
   "execution_count": 71,
   "id": "5fa19cb6-d720-40d6-84dd-4fa27833425d",
   "metadata": {},
   "outputs": [],
   "source": [
    "oclc_music_df[\"brief_bibs_no_ukmgb\"] = oclc_music_df[\"brief_bibs\"].apply(lambda x: remove_ukmgb(x))"
   ]
  },
  {
   "cell_type": "code",
   "execution_count": 81,
   "id": "b9617321-d739-4067-a5fa-9edebdd68d50",
   "metadata": {},
   "outputs": [],
   "source": [
    "oclc_music_df[\"n_records\"] = oclc_music_df[\"brief_bibs\"].apply(lambda x: x[\"numberOfRecords\"])"
   ]
  },
  {
   "cell_type": "code",
   "execution_count": 82,
   "id": "a731099e-990c-49b7-8723-4741c9b02b56",
   "metadata": {},
   "outputs": [],
   "source": [
    "oclc_music_df[\"n_records_no_ukmgb\"] = oclc_music_df[\"brief_bibs_no_ukmgb\"].apply(lambda x: x[\"numberOfRecords\"])"
   ]
  },
  {
   "cell_type": "code",
   "execution_count": 85,
   "id": "d604dd3e-10c4-4b43-b78b-d06d57b2c833",
   "metadata": {},
   "outputs": [
    {
     "data": {
      "text/html": [
       "<div>\n",
       "<style scoped>\n",
       "    .dataframe tbody tr th:only-of-type {\n",
       "        vertical-align: middle;\n",
       "    }\n",
       "\n",
       "    .dataframe tbody tr th {\n",
       "        vertical-align: top;\n",
       "    }\n",
       "\n",
       "    .dataframe thead th {\n",
       "        text-align: right;\n",
       "    }\n",
       "</style>\n",
       "<table border=\"1\" class=\"dataframe\">\n",
       "  <thead>\n",
       "    <tr style=\"text-align: right;\">\n",
       "      <th></th>\n",
       "      <th>weights</th>\n",
       "      <th>n_records</th>\n",
       "      <th>n_records_no_ukmgb</th>\n",
       "    </tr>\n",
       "  </thead>\n",
       "  <tbody>\n",
       "    <tr>\n",
       "      <th>count</th>\n",
       "      <td>8827.000000</td>\n",
       "      <td>8827.000000</td>\n",
       "      <td>8827.00000</td>\n",
       "    </tr>\n",
       "    <tr>\n",
       "      <th>mean</th>\n",
       "      <td>0.018993</td>\n",
       "      <td>1.866093</td>\n",
       "      <td>0.77025</td>\n",
       "    </tr>\n",
       "    <tr>\n",
       "      <th>std</th>\n",
       "      <td>0.003683</td>\n",
       "      <td>2.954250</td>\n",
       "      <td>2.46673</td>\n",
       "    </tr>\n",
       "    <tr>\n",
       "      <th>min</th>\n",
       "      <td>0.000469</td>\n",
       "      <td>1.000000</td>\n",
       "      <td>0.00000</td>\n",
       "    </tr>\n",
       "    <tr>\n",
       "      <th>25%</th>\n",
       "      <td>0.017696</td>\n",
       "      <td>1.000000</td>\n",
       "      <td>0.00000</td>\n",
       "    </tr>\n",
       "    <tr>\n",
       "      <th>50%</th>\n",
       "      <td>0.019387</td>\n",
       "      <td>1.000000</td>\n",
       "      <td>0.00000</td>\n",
       "    </tr>\n",
       "    <tr>\n",
       "      <th>75%</th>\n",
       "      <td>0.021366</td>\n",
       "      <td>2.000000</td>\n",
       "      <td>0.00000</td>\n",
       "    </tr>\n",
       "    <tr>\n",
       "      <th>max</th>\n",
       "      <td>0.025196</td>\n",
       "      <td>91.000000</td>\n",
       "      <td>49.00000</td>\n",
       "    </tr>\n",
       "  </tbody>\n",
       "</table>\n",
       "</div>"
      ],
      "text/plain": [
       "           weights    n_records  n_records_no_ukmgb\n",
       "count  8827.000000  8827.000000          8827.00000\n",
       "mean      0.018993     1.866093             0.77025\n",
       "std       0.003683     2.954250             2.46673\n",
       "min       0.000469     1.000000             0.00000\n",
       "25%       0.017696     1.000000             0.00000\n",
       "50%       0.019387     1.000000             0.00000\n",
       "75%       0.021366     2.000000             0.00000\n",
       "max       0.025196    91.000000            49.00000"
      ]
     },
     "execution_count": 85,
     "metadata": {},
     "output_type": "execute_result"
    }
   ],
   "source": [
    "oclc_music_df[oclc_music_df[\"n_records\"].astype(bool)].describe()"
   ]
  },
  {
   "cell_type": "code",
   "execution_count": 84,
   "id": "b61bf1fb-a0bc-4263-81fd-a747991a11ec",
   "metadata": {},
   "outputs": [
    {
     "data": {
      "text/html": [
       "<div>\n",
       "<style scoped>\n",
       "    .dataframe tbody tr th:only-of-type {\n",
       "        vertical-align: middle;\n",
       "    }\n",
       "\n",
       "    .dataframe tbody tr th {\n",
       "        vertical-align: top;\n",
       "    }\n",
       "\n",
       "    .dataframe thead th {\n",
       "        text-align: right;\n",
       "    }\n",
       "</style>\n",
       "<table border=\"1\" class=\"dataframe\">\n",
       "  <thead>\n",
       "    <tr style=\"text-align: right;\">\n",
       "      <th></th>\n",
       "      <th>weights</th>\n",
       "      <th>n_records</th>\n",
       "      <th>n_records_no_ukmgb</th>\n",
       "    </tr>\n",
       "  </thead>\n",
       "  <tbody>\n",
       "    <tr>\n",
       "      <th>count</th>\n",
       "      <td>2132.000000</td>\n",
       "      <td>2132.000000</td>\n",
       "      <td>2132.000000</td>\n",
       "    </tr>\n",
       "    <tr>\n",
       "      <th>mean</th>\n",
       "      <td>0.018643</td>\n",
       "      <td>4.382270</td>\n",
       "      <td>3.189024</td>\n",
       "    </tr>\n",
       "    <tr>\n",
       "      <th>std</th>\n",
       "      <td>0.003472</td>\n",
       "      <td>5.197979</td>\n",
       "      <td>4.181411</td>\n",
       "    </tr>\n",
       "    <tr>\n",
       "      <th>min</th>\n",
       "      <td>0.001085</td>\n",
       "      <td>1.000000</td>\n",
       "      <td>1.000000</td>\n",
       "    </tr>\n",
       "    <tr>\n",
       "      <th>25%</th>\n",
       "      <td>0.016387</td>\n",
       "      <td>2.000000</td>\n",
       "      <td>1.000000</td>\n",
       "    </tr>\n",
       "    <tr>\n",
       "      <th>50%</th>\n",
       "      <td>0.019162</td>\n",
       "      <td>3.000000</td>\n",
       "      <td>2.000000</td>\n",
       "    </tr>\n",
       "    <tr>\n",
       "      <th>75%</th>\n",
       "      <td>0.020638</td>\n",
       "      <td>5.000000</td>\n",
       "      <td>4.000000</td>\n",
       "    </tr>\n",
       "    <tr>\n",
       "      <th>max</th>\n",
       "      <td>0.025196</td>\n",
       "      <td>91.000000</td>\n",
       "      <td>49.000000</td>\n",
       "    </tr>\n",
       "  </tbody>\n",
       "</table>\n",
       "</div>"
      ],
      "text/plain": [
       "           weights    n_records  n_records_no_ukmgb\n",
       "count  2132.000000  2132.000000         2132.000000\n",
       "mean      0.018643     4.382270            3.189024\n",
       "std       0.003472     5.197979            4.181411\n",
       "min       0.001085     1.000000            1.000000\n",
       "25%       0.016387     2.000000            1.000000\n",
       "50%       0.019162     3.000000            2.000000\n",
       "75%       0.020638     5.000000            4.000000\n",
       "max       0.025196    91.000000           49.000000"
      ]
     },
     "execution_count": 84,
     "metadata": {},
     "output_type": "execute_result"
    }
   ],
   "source": [
    "oclc_music_df[oclc_music_df[\"n_records_no_ukmgb\"].astype(bool)].describe()"
   ]
  },
  {
   "cell_type": "code",
   "execution_count": 102,
   "id": "8c6bb450-4973-4791-b745-50bc7dbaf084",
   "metadata": {},
   "outputs": [
    {
     "data": {
      "text/plain": [
       "6799"
      ]
     },
     "execution_count": 102,
     "metadata": {},
     "output_type": "execute_result"
    }
   ],
   "source": [
    "oclc_music_df[\"n_records_no_ukmgb\"].sum()"
   ]
  },
  {
   "cell_type": "code",
   "execution_count": 100,
   "id": "c4110bb3-97fc-405c-864d-a3f7601fa283",
   "metadata": {},
   "outputs": [
    {
     "data": {
      "text/plain": [
       "{'numberOfRecords': 3,\n",
       " 'briefRecords': [{'oclcNumber': '52497021',\n",
       "   'title': 'In bluebird land',\n",
       "   'creator': 'Albert E. Short',\n",
       "   'date': '©1921',\n",
       "   'machineReadableDate': '1921',\n",
       "   'language': 'eng',\n",
       "   'generalFormat': 'MsScr',\n",
       "   'publisher': 'Will Rossiter',\n",
       "   'publicationPlace': 'Chicago',\n",
       "   'mergedOclcNumbers': ['861297690'],\n",
       "   'catalogingInfo': {'catalogingAgency': 'MFM',\n",
       "    'catalogingLanguage': 'eng',\n",
       "    'levelOfCataloging': ' ',\n",
       "    'transcribingAgency': 'MFM'}},\n",
       "  {'oclcNumber': '801653635',\n",
       "   'title': 'In bluebird land : song',\n",
       "   'creator': 'Albert E. Short',\n",
       "   'date': '1921',\n",
       "   'machineReadableDate': '1921',\n",
       "   'language': 'eng',\n",
       "   'generalFormat': 'MsScr',\n",
       "   'publisher': 'Will Rossiter',\n",
       "   'publicationPlace': 'Chicago, ILL',\n",
       "   'catalogingInfo': {'catalogingAgency': 'YOU',\n",
       "    'catalogingLanguage': 'eng',\n",
       "    'levelOfCataloging': 'M',\n",
       "    'transcribingAgency': 'YOU'}},\n",
       "  {'oclcNumber': '43030468',\n",
       "   'title': 'In bluebird land : fox trot',\n",
       "   'creator': 'Albert E. Short',\n",
       "   'date': '©1921',\n",
       "   'machineReadableDate': '1921',\n",
       "   'language': 'zxx',\n",
       "   'generalFormat': 'MsScr',\n",
       "   'publisher': 'Will Rossiter',\n",
       "   'publicationPlace': 'Chicago',\n",
       "   'catalogingInfo': {'catalogingAgency': 'CLE',\n",
       "    'catalogingLanguage': 'eng',\n",
       "    'levelOfCataloging': ' ',\n",
       "    'transcribingAgency': 'CLE'}}]}"
      ]
     },
     "execution_count": 100,
     "metadata": {},
     "output_type": "execute_result"
    }
   ],
   "source": [
    "oclc_music_df[oclc_music_df[\"n_records_no_ukmgb\"].astype(bool)][\"brief_bibs_no_ukmgb\"].loc[5093571]"
   ]
  }
 ],
 "metadata": {
  "kernelspec": {
   "display_name": "Python [conda env:cac]",
   "language": "python",
   "name": "conda-env-cac-py"
  },
  "language_info": {
   "codemirror_mode": {
    "name": "ipython",
    "version": 3
   },
   "file_extension": ".py",
   "mimetype": "text/x-python",
   "name": "python",
   "nbconvert_exporter": "python",
   "pygments_lexer": "ipython3",
   "version": "3.11.5"
  }
 },
 "nbformat": 4,
 "nbformat_minor": 5
}
