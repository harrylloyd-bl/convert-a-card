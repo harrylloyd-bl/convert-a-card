{
 "cells": [
  {
   "cell_type": "markdown",
   "id": "5f3bcdc2",
   "metadata": {},
   "source": [
    "# Trialing the OCLC Worldcat API"
   ]
  },
  {
   "cell_type": "markdown",
   "id": "9fa51450",
   "metadata": {},
   "source": [
    "Notes on this process in my OneNote for now"
   ]
  },
  {
   "cell_type": "code",
   "execution_count": null,
   "id": "b1e5f811",
   "metadata": {},
   "outputs": [],
   "source": [
    "import sys\n",
    "if \"../\" not in sys.path:\n",
    "    sys.path.append(\"../\")\n",
    "import os\n",
    "import io\n",
    "import sys\n",
    "from urllib.parse import quote\n",
    "from dotenv import load_dotenv\n",
    "from pymarc import marcxml, Record\n",
    "import requests\n",
    "\n",
    "import bookops_worldcat as bw"
   ]
  },
  {
   "cell_type": "code",
   "execution_count": null,
   "id": "7d7544b4",
   "metadata": {},
   "outputs": [],
   "source": [
    "load_dotenv()\n",
    "client_id = os.environ[\"CLIENT_ID\"]\n",
    "client_secret = os.environ[\"CLIENT_SECRET\"]"
   ]
  },
  {
   "cell_type": "markdown",
   "id": "0bc40a03",
   "metadata": {},
   "source": [
    "## Metadata API"
   ]
  },
  {
   "cell_type": "markdown",
   "id": "6428f1b9",
   "metadata": {},
   "source": [
    "Have to use access token authorisation but return values can be xml"
   ]
  },
  {
   "cell_type": "code",
   "execution_count": null,
   "id": "2fd9e373",
   "metadata": {},
   "outputs": [],
   "source": [
    "scope = \"WorldCatMetadataAPI\"\n",
    "auth_url = f\"https://oauth.oclc.org/token?grant_type=client_credentials&scope={scope}\"\n",
    "bib_headers = {\"Accept\":\"application/json\"}\n",
    "oclc_headers = {\"Accept\":\"application/marcxml+xml\"}"
   ]
  },
  {
   "cell_type": "code",
   "execution_count": null,
   "id": "93999a36",
   "metadata": {},
   "outputs": [],
   "source": [
    "auth = requests.post(auth_url, headers=bib_headers, auth=(client_id, client_secret))\n",
    "token = auth.json()[\"access_token\"]\n",
    "bib_headers[\"Authorization\"] = f\"Bearer {token}\"\n",
    "oclc_headers[\"Authorization\"] = f\"Bearer {token}\"\n",
    "\n",
    "bib_headers, oclc_headers"
   ]
  },
  {
   "cell_type": "code",
   "execution_count": null,
   "id": "a4bca5e1",
   "metadata": {},
   "outputs": [],
   "source": [
    "auth.json()"
   ]
  },
  {
   "cell_type": "code",
   "execution_count": null,
   "id": "54bdaa5c",
   "metadata": {},
   "outputs": [],
   "source": [
    "# query = 'ti=\"Feng Ling Du\" AND au=\"Duanmu (Hongliang)\"'\n",
    "seventy_query = f'ti:\"FEI LONG QUAN ZHUAN\" and au:\"WU (Xuan)\"'"
   ]
  },
  {
   "cell_type": "code",
   "execution_count": null,
   "id": "5e9832c2",
   "metadata": {},
   "outputs": [],
   "source": [
    "metadata_url = \"https://metadata.api.oclc.org/worldcat/\"\n",
    "search_brief_bibs = \"search/brief-bibs?q=\"\n",
    "get_record_by_oclc_num = \"manage/bibs/\"\n",
    "\n",
    "ti_au_search_url = metadata_url + search_brief_bibs + quote(seventy_query) + \"&orderBy=bestMatch\"\n",
    "oclc_search_stem = metadata_url + get_record_by_oclc_num"
   ]
  },
  {
   "cell_type": "code",
   "execution_count": null,
   "id": "202e0584",
   "metadata": {},
   "outputs": [],
   "source": [
    "ti_au_search_url"
   ]
  },
  {
   "cell_type": "code",
   "execution_count": null,
   "id": "5533bee2",
   "metadata": {},
   "outputs": [],
   "source": [
    "# brief_bib_search_result = requests.get(ti_au_search_url.replace(\"%20\", \"+\"), headers=bib_headers)"
   ]
  },
  {
   "cell_type": "code",
   "execution_count": null,
   "id": "1aa99ae2",
   "metadata": {},
   "outputs": [],
   "source": [
    "first_50 = requests.get(ti_au_search_url+\"&limit=50\", headers=bib_headers)"
   ]
  },
  {
   "cell_type": "code",
   "execution_count": null,
   "id": "141f73e4",
   "metadata": {},
   "outputs": [],
   "source": [
    "first_50_oclc = [x[\"oclcNumber\"] for x in first_50.json()[\"briefRecords\"]]"
   ]
  },
  {
   "cell_type": "code",
   "execution_count": null,
   "id": "006ba742",
   "metadata": {},
   "outputs": [],
   "source": [
    "second_20 = requests.get(ti_au_search_url + \"&offset=52&limit=1\", headers=bib_headers)"
   ]
  },
  {
   "cell_type": "code",
   "execution_count": null,
   "id": "79987b22",
   "metadata": {},
   "outputs": [],
   "source": [
    "len(first_50.json()[\"briefRecords\"]), len(second_20.json()[\"briefRecords\"])"
   ]
  },
  {
   "cell_type": "code",
   "execution_count": null,
   "id": "05972f7a",
   "metadata": {},
   "outputs": [],
   "source": [
    "second_20_oclc = [x[\"oclcNumber\"] for x in second_20.json()[\"briefRecords\"]]\n",
    "second_20_oclc"
   ]
  },
  {
   "cell_type": "code",
   "execution_count": null,
   "id": "27398fa1",
   "metadata": {},
   "outputs": [],
   "source": [
    "[first_50_oclc.index(x) for x in second_20_oclc if x in first_50_oclc]"
   ]
  },
  {
   "cell_type": "code",
   "execution_count": null,
   "id": "bd540520",
   "metadata": {},
   "outputs": [],
   "source": [
    "first_50_oclc[-10:]"
   ]
  },
  {
   "cell_type": "code",
   "execution_count": null,
   "id": "8b2c3318",
   "metadata": {},
   "outputs": [],
   "source": [
    "brief_bib_search_result.json()[\"briefRecords\"][0]"
   ]
  },
  {
   "cell_type": "code",
   "execution_count": null,
   "id": "249488f2",
   "metadata": {},
   "outputs": [],
   "source": [
    "oclc_search_stem + brief_bib_search_result.json()[\"briefRecords\"][0][\"oclcNumber\"]"
   ]
  },
  {
   "cell_type": "code",
   "execution_count": null,
   "id": "c5bbe68e",
   "metadata": {},
   "outputs": [],
   "source": [
    "marc_xml = {\n",
    "    int(x[\"oclcNumber\"]): requests.get(oclc_search_stem + x[\"oclcNumber\"], headers=oclc_headers)\n",
    "    for x in brief_bib_search_result.json()[\"briefRecords\"]\n",
    "}"
   ]
  },
  {
   "cell_type": "code",
   "execution_count": null,
   "id": "526e09c4",
   "metadata": {},
   "outputs": [],
   "source": [
    "marc_xml[23921305]"
   ]
  },
  {
   "cell_type": "code",
   "execution_count": null,
   "id": "a9434ad7",
   "metadata": {},
   "outputs": [],
   "source": [
    "[x[\"oclcNumber\"] for x in brief_bib_search_result.json()[\"briefRecords\"]]"
   ]
  },
  {
   "cell_type": "code",
   "execution_count": null,
   "id": "0de36556",
   "metadata": {},
   "outputs": [],
   "source": [
    "print(marcxml.parse_xml_to_array(io.StringIO(marc_xml[23921305].text))[0])"
   ]
  },
  {
   "cell_type": "code",
   "execution_count": null,
   "id": "ec142f93",
   "metadata": {},
   "outputs": [],
   "source": [
    "token = bw.WorldcatAccessToken(\n",
    "    key=client_id,\n",
    "    secret=client_secret,\n",
    "    scopes=[\"WorldCatMetadataAPI\"],\n",
    "    principal_id=\"unused\",\n",
    "    principal_idns=\"unused\"\n",
    ")"
   ]
  },
  {
   "cell_type": "code",
   "execution_count": null,
   "id": "144e4bbc",
   "metadata": {},
   "outputs": [],
   "source": [
    "session = bw.MetadataSession(authorization=token)"
   ]
  },
  {
   "cell_type": "code",
   "execution_count": null,
   "id": "d453506c",
   "metadata": {},
   "outputs": [],
   "source": [
    "results = session.search_brief_bibs(q=query, inCatalogLanguage=None)"
   ]
  },
  {
   "cell_type": "code",
   "execution_count": null,
   "id": "730673c5",
   "metadata": {},
   "outputs": [],
   "source": [
    "results.json()"
   ]
  },
  {
   "cell_type": "code",
   "execution_count": null,
   "id": "b6402b10",
   "metadata": {},
   "outputs": [],
   "source": [
    "full_bib = session.get_full_bib(results.json()[\"briefRecords\"][0][\"oclcNumber\"])"
   ]
  },
  {
   "cell_type": "code",
   "execution_count": null,
   "id": "dff19739",
   "metadata": {},
   "outputs": [],
   "source": [
    "marcxml.parse_xml_to_array(io.StringIO(full_bib.text))[0]"
   ]
  },
  {
   "cell_type": "code",
   "execution_count": null,
   "id": "f10290d7",
   "metadata": {},
   "outputs": [],
   "source": []
  }
 ],
 "metadata": {
  "kernelspec": {
   "display_name": "Python [conda env:cac]",
   "language": "python",
   "name": "conda-env-cac-py"
  },
  "language_info": {
   "codemirror_mode": {
    "name": "ipython",
    "version": 3
   },
   "file_extension": ".py",
   "mimetype": "text/x-python",
   "name": "python",
   "nbconvert_exporter": "python",
   "pygments_lexer": "ipython3",
   "version": "3.11.5"
  }
 },
 "nbformat": 4,
 "nbformat_minor": 5
}
