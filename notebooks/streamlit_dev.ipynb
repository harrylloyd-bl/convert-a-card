{
 "cells": [
  {
   "cell_type": "markdown",
   "id": "72a6f241",
   "metadata": {},
   "source": [
    "# iDev for Streamlit app"
   ]
  },
  {
   "cell_type": "markdown",
   "id": "7456111a",
   "metadata": {},
   "source": [
    "Space to work interactively with the inputs and filters involved in the streamlit app."
   ]
  },
  {
   "cell_type": "code",
   "execution_count": null,
   "id": "8f1fd912",
   "metadata": {},
   "outputs": [],
   "source": [
    "from __future__ import annotations\n",
    "\n",
    "import sys\n",
    "if '../' not in sys.path:\n",
    "    sys.path.append('../')\n",
    "import os\n",
    "import glob\n",
    "import re \n",
    "import xml.etree.ElementTree as ET\n",
    "import json\n",
    "\n",
    "import numpy as np\n",
    "import pandas as pd\n",
    "import requests\n",
    "import pickle\n",
    "\n",
    "from pymarc import Record\n",
    "from src.utils import streamlit_utils as st_utils"
   ]
  },
  {
   "cell_type": "markdown",
   "id": "fc2d1873",
   "metadata": {},
   "source": [
    "When not wanting latex to display"
   ]
  },
  {
   "cell_type": "code",
   "execution_count": null,
   "id": "f3add3f7",
   "metadata": {},
   "outputs": [],
   "source": [
    "pd.options.display.html.use_mathjax = False"
   ]
  },
  {
   "cell_type": "code",
   "execution_count": null,
   "id": "7e44438b",
   "metadata": {},
   "outputs": [],
   "source": [
    "p5_root = (\n",
    "    r\"G:\\DigiSchol\\Digital Research and Curator Team\\Projects & Proposals\\00_Current Projects\"\n",
    "    r\"\\LibCrowds Convert-a-Card (Adi)\\OCR\\20230504 TKB Export P5 175 GT pp\\1016992\\P5_for_Transkribus\"\n",
    ")"
   ]
  },
  {
   "cell_type": "code",
   "execution_count": null,
   "id": "13a9b18e",
   "metadata": {},
   "outputs": [],
   "source": [
    "cards_df_v0 = pickle.load(open(\"../data/processed/401_cards.p\", \"rb\"))\n",
    "cards_df = cards_df_v0.dropna(subset=\"worldcat_matches_subtyped\").copy().set_index(np.arange(1,196))"
   ]
  },
  {
   "cell_type": "code",
   "execution_count": null,
   "id": "01fb0d1b-4ca9-496e-a77c-742ecf80269d",
   "metadata": {},
   "outputs": [],
   "source": [
    "cards_df.head()"
   ]
  },
  {
   "cell_type": "code",
   "execution_count": null,
   "id": "b7a34c33",
   "metadata": {},
   "outputs": [],
   "source": [
    "cards_df.loc[40]"
   ]
  },
  {
   "cell_type": "code",
   "execution_count": null,
   "id": "7dfae0ba",
   "metadata": {},
   "outputs": [],
   "source": [
    "# pickle.dump(cards_df, open(\"cards_df.p\", \"wb\"))"
   ]
  },
  {
   "cell_type": "code",
   "execution_count": null,
   "id": "1f8c1f39",
   "metadata": {},
   "outputs": [],
   "source": [
    "# nulls = len(cards_df) - len(cards_df.dropna(subset=\"worldcat_matches\"))\n",
    "cards_to_show = cards_df.dropna(subset=\"worldcat_matches_subtyped\").loc[:,(\"title\", \"author\", \"shelfmark\", \"worldcat_matches_subtyped\", \"lines\", \"selected_match\", \"match_needs_editing\")]\n",
    "# cards_to_show.insert(loc=0, column=\"card_id\", value=range(1, len(cards_to_show) + 1))\n",
    "# cards_to_show_selections = cards_to_show.copy()\n",
    "# cards_to_show_selections.insert(loc=1, column=\"Select\", value=False)"
   ]
  },
  {
   "cell_type": "code",
   "execution_count": null,
   "id": "ca6790d6",
   "metadata": {},
   "outputs": [],
   "source": [
    "cards_to_show"
   ]
  },
  {
   "cell_type": "code",
   "execution_count": null,
   "id": "6e04ab98",
   "metadata": {},
   "outputs": [],
   "source": [
    "card_idx = 55"
   ]
  },
  {
   "cell_type": "code",
   "execution_count": null,
   "id": "c5480d7d",
   "metadata": {},
   "outputs": [],
   "source": [
    "search_ti = cards_to_show.loc[card_idx, 'title'].replace(' ', '+')\n",
    "if cards_to_show.loc[card_idx, 'author']:\n",
    "    search_au = cards_to_show.loc[card_idx, 'author'].replace(' ', '+')\n",
    "else:\n",
    "    search_au = \"\""
   ]
  },
  {
   "cell_type": "code",
   "execution_count": null,
   "id": "827348ee",
   "metadata": {},
   "outputs": [],
   "source": [
    "lang_dict = json.load(open(\"..\\\\data\\\\raw\\\\marc_lang_codes.json\", \"r\"))\n",
    "\n",
    "match_df = pd.DataFrame({\"record\": list(cards_to_show.loc[card_idx, \"worldcat_matches_subtyped\"])})\n",
    "match_df = st_utils.create_filter_columns(match_df, lang_dict, search_au)"
   ]
  },
  {
   "cell_type": "code",
   "execution_count": null,
   "id": "c9425ffc-9ee8-455b-8d3a-c855d33b6ce1",
   "metadata": {},
   "outputs": [],
   "source": [
    "match_df.query(\"publication_date > -9999\")[\"publication_date\"].sort_values().dropna().unique().astype(int)"
   ]
  },
  {
   "cell_type": "code",
   "execution_count": null,
   "id": "2983f0b4-001a-473b-8895-69b30081bf25",
   "metadata": {},
   "outputs": [],
   "source": [
    "match_df"
   ]
  },
  {
   "cell_type": "code",
   "execution_count": null,
   "id": "ba910692",
   "metadata": {},
   "outputs": [],
   "source": [
    "def add_subfield_rpt(df, field, split_chr, split_idx, na_subfield):\n",
    "    repeat_id = [str(x) for x in range(len(df.loc[field:field]))]\n",
    "    if repeat_id == [\"0\"]:\n",
    "        df.loc[field, \"Subfield\"] = df.loc[field, df.columns[0]].split(split_chr)[split_idx]\n",
    "    elif na_subfield:\n",
    "        df.loc[field, \"Subfield\"] = None\n",
    "    else:\n",
    "        df.loc[field, \"Subfield\":\"Subfield\"] = df.loc[field, df.columns[0]].str.split(split_chr).transform(lambda x: x[split_idx])\n",
    "    df.loc[field, \"Rpt\":\"Rpt\"] = repeat_id\n",
    "\n",
    "subfield_handler = { # [split_chr, split_idx, na_subfield]\n",
    "    \"500\":[\"$\", 0, True],\n",
    "    \"650\":[\"$\", 0, False],\n",
    "    \"880\":[\"$\", 1, False]\n",
    "}    \n",
    "    \n",
    "def gen_unique_idx(df: pd.DataFrame, subfield_handler: dict) -> pd.DataFrame:\n",
    "    \"\"\"\n",
    "    Generate a unique index from one that contains repeated fields\n",
    "    @param out_df: pd.DataFrame\n",
    "    @return: pd.DataFrame\n",
    "    \"\"\"\n",
    "    out_df = df.copy()\n",
    "    out_df[\"Subfield\"] = \"\"\n",
    "    out_df[\"Rpt\"] = \"\"\n",
    "    dup_idx = out_df.index[out_df.index.duplicated()].unique()\n",
    "    unhandled_fields = [x for x in dup_idx if x not in subfield_handler]\n",
    "        \n",
    "    for field, subfield_args in subfield_handler.items():\n",
    "        split_chr, split_idx, na_subfield = subfield_args\n",
    "        if field in out_df.index:\n",
    "            add_subfield_rpt(out_df, field, split_chr, split_idx, na_subfield)\n",
    "    for dup in unhandled_fields:\n",
    "        out_df.loc[dup, \"Rpt\"] = [str(x) for x in range(len(out_df.loc[dup]))]\n",
    "\n",
    "    return out_df.set_index([\"Subfield\", \"Rpt\"], append=True)"
   ]
  },
  {
   "cell_type": "code",
   "execution_count": null,
   "id": "939a8bf3",
   "metadata": {},
   "outputs": [],
   "source": [
    "filtered_df = match_df\n",
    "matches_to_show = filtered_df"
   ]
  },
  {
   "cell_type": "code",
   "execution_count": null,
   "id": "3ddf93e2-429f-4af1-86d5-9a5f78d84bd1",
   "metadata": {},
   "outputs": [],
   "source": [
    "unedited_recs[-1].index"
   ]
  },
  {
   "cell_type": "code",
   "execution_count": null,
   "id": "8b12a49e-494c-4ab2-8b79-9404109b72b6",
   "metadata": {},
   "outputs": [],
   "source": [
    "unedited_recs[-1].sort_index().loc[\"500\":]"
   ]
  },
  {
   "cell_type": "code",
   "execution_count": null,
   "id": "3d644364",
   "metadata": {},
   "outputs": [],
   "source": [
    "recs, unedited_recs = [], []\n",
    "for i in range(len(matches_to_show)):\n",
    "    print(i)\n",
    "    res = matches_to_show.iloc[i, 0].get_fields()\n",
    "    ldr = [matches_to_show.iloc[i, 0].leader]\n",
    "    rec = pd.DataFrame(\n",
    "        index=pd.Index([\"LDR\"] + [x.tag for x in res], name=\"Field\"),\n",
    "        data=ldr + [x.__str__()[6:] for x in res],\n",
    "        columns=[matches_to_show.iloc[i].name]\n",
    "    )\n",
    "    unedited_recs.append(rec)\n",
    "    recs.append(gen_unique_idx(rec, subfield_handler))"
   ]
  },
  {
   "cell_type": "code",
   "execution_count": null,
   "id": "42f0bf9f",
   "metadata": {},
   "outputs": [],
   "source": [
    "recs[0]"
   ]
  },
  {
   "cell_type": "code",
   "execution_count": null,
   "id": "911f95ca",
   "metadata": {},
   "outputs": [],
   "source": [
    "def sort_fields_idx(index):\n",
    "    if index.name == \"Field\":\n",
    "        key = [0 if x == \"LDR\" else int(x) for x in index]\n",
    "        return pd.Index(key)\n",
    "    elif index.name == \"Subfield\":\n",
    "        key = [x.split(\"$\")[1] if \"$\" in x else x for x in index]\n",
    "        return pd.Index(key)\n",
    "    elif index.name == \"Rpt\":\n",
    "        return index"
   ]
  },
  {
   "cell_type": "code",
   "execution_count": null,
   "id": "384313b1",
   "metadata": {},
   "outputs": [],
   "source": [
    "marc_df = pd.concat(recs, axis=1).sort_index()\n",
    "# marc_df = marc_df.sort_index(key=sort_fields_idx)"
   ]
  },
  {
   "cell_type": "code",
   "execution_count": null,
   "id": "9ef8f760",
   "metadata": {},
   "outputs": [],
   "source": [
    "marc_df.loc[(\"500\")]"
   ]
  },
  {
   "cell_type": "code",
   "execution_count": null,
   "id": "98d2b0b8",
   "metadata": {},
   "outputs": [],
   "source": [
    "marc_df"
   ]
  },
  {
   "cell_type": "code",
   "execution_count": null,
   "id": "78bd90c3",
   "metadata": {},
   "outputs": [],
   "source": [
    "def simplify_6xx(df):\n",
    "    \"\"\"\n",
    "    Pandas magic\n",
    "    Arbitrarily assinging repeat_id vals to repeat fields in records means common field values are not matched to each other\n",
    "    Get round this by reindexing on an index of all unique values for a subfield\n",
    "    Set the values for the reindexed subfield to the newly reindexed one.\n",
    "    If there has been reordering this leaves rows of NA at the end of the subfield that can be dropped\n",
    "    \"\"\"\n",
    "    if df.shape[1] == 1:\n",
    "        return df\n",
    "    tidy_df = df.copy()\n",
    "    subfields = tidy_df.loc[\"650\"].index.get_level_values(0).unique()\n",
    "    for sf in subfields:\n",
    "        sf_orig = tidy_df.loc[(\"650\", sf), :]\n",
    "        sf_unique_vals = pd.Series(sf_orig.values.flatten()).dropna().unique()\n",
    "        if len(sf_orig) < len(sf_unique_vals):\n",
    "            continue\n",
    "        sf_unique_df = pd.DataFrame(data=sf_unique_vals, columns=pd.Index([\"unique_vals\"]))\n",
    "        for x in sf_orig.columns:\n",
    "            sf_unique_df = sf_unique_df.merge(sf_orig[x], how=\"left\", left_on=\"unique_vals\", right_on=x)\n",
    "        replacement_df = sf_unique_df.set_index(sf_orig.index[:len(sf_unique_df)]).reindex(sf_orig.index).drop(\n",
    "            columns=\"unique_vals\")\n",
    "        replacement_df[\"Field\"] = \"650\"\n",
    "        replacement_df[\"Subfield\"] = sf\n",
    "        replacement_df = replacement_df.set_index([\"Field\", \"Subfield\"], append=True).reorder_levels([1, 2, 0])\n",
    "        if not replacement_df.reset_index(drop=True).equals(sf_orig.reset_index(drop=True)):\n",
    "            tidy_df.loc[(\"650\", sf), :] = replacement_df\n",
    "        else: # No overlapping terms so flatten naively\n",
    "            sf_orig_blank_idx = sf_orig.reset_index(drop=True)\n",
    "            blank_idx_df = sf_orig.reset_index().drop(columns=sf_orig.columns)\n",
    "            for x in sf_orig_blank_idx.columns:\n",
    "                blank_idx_df = blank_idx_df.join(sf_orig_blank_idx[x].dropna().reset_index(drop=True))\n",
    "            blank_idx_df[\"Field\"] = \"650\"\n",
    "            blank_idx_df[\"Subfield\"] = sf\n",
    "            replacement_df = blank_idx_df.set_index([\"Field\", \"Subfield\", \"Rpt\"])\n",
    "            tidy_df.loc[(\"650\", sf), :] = replacement_df\n",
    "    return tidy_df.dropna(how=\"all\")\n",
    "\n",
    "def simplify_8xx():\n",
    "    pass\n",
    "\n",
    "def tidy_concat():\n",
    "    pass"
   ]
  },
  {
   "cell_type": "code",
   "execution_count": null,
   "id": "45e991c9",
   "metadata": {},
   "outputs": [],
   "source": [
    "marc_df"
   ]
  },
  {
   "cell_type": "code",
   "execution_count": null,
   "id": "0d1b8bb9",
   "metadata": {},
   "outputs": [],
   "source": [
    "simplify_6xx(marc_df).sort_index(key=sort_fields_idx)"
   ]
  },
  {
   "cell_type": "code",
   "execution_count": null,
   "id": "adeefb98",
   "metadata": {},
   "outputs": [],
   "source": [
    "subfield_to_replace = marc_df.loc[(\"650\", \"\\\\7\"), :]\n",
    "subfield_unique_vals = pd.Series(subfield_to_replace.values.flatten()).dropna().unique()\n",
    "unique_vals = pd.DataFrame(data=subfield_unique_vals, columns=pd.Index([\"unique_vals\"]))"
   ]
  },
  {
   "cell_type": "code",
   "execution_count": null,
   "id": "ae47d308",
   "metadata": {},
   "outputs": [],
   "source": [
    "subfield_to_replace[0].reset_index()"
   ]
  },
  {
   "cell_type": "code",
   "execution_count": null,
   "id": "76104d9a",
   "metadata": {},
   "outputs": [],
   "source": [
    "for x in marc_df.columns:\n",
    "    unique_vals = unique_vals.merge(subfield_to_replace[x], how=\"left\", left_on=\"unique_vals\", right_on=x)"
   ]
  },
  {
   "cell_type": "code",
   "execution_count": null,
   "id": "58357717",
   "metadata": {},
   "outputs": [],
   "source": [
    "replacement_vals = unique_vals.set_index(subfield_to_replace.index[:len(unique_vals)]).reindex(subfield_to_replace.index).drop(columns=\"unique_vals\")"
   ]
  },
  {
   "cell_type": "code",
   "execution_count": null,
   "id": "c8fc7482",
   "metadata": {},
   "outputs": [],
   "source": [
    "replacement_vals[\"Field\"] = \"650\"\n",
    "replacement_vals[\"Subfield\"] = \"\\\\7\""
   ]
  },
  {
   "cell_type": "code",
   "execution_count": null,
   "id": "6db008ed",
   "metadata": {},
   "outputs": [],
   "source": [
    "replacement_vals = replacement_vals.set_index([\"Field\", \"Subfield\"], append=True).reorder_levels([1,2,0])"
   ]
  },
  {
   "cell_type": "code",
   "execution_count": null,
   "id": "51eb586c",
   "metadata": {},
   "outputs": [],
   "source": [
    "replacement_vals"
   ]
  },
  {
   "cell_type": "code",
   "execution_count": null,
   "id": "69c0e2cb",
   "metadata": {},
   "outputs": [],
   "source": [
    "subfield_to_replace"
   ]
  },
  {
   "cell_type": "code",
   "execution_count": null,
   "id": "604619dc",
   "metadata": {},
   "outputs": [],
   "source": [
    "marc_df.loc[(\"650\", \"\\\\7\"), :] = replacement_vals"
   ]
  },
  {
   "cell_type": "code",
   "execution_count": null,
   "id": "bb1370ba",
   "metadata": {},
   "outputs": [],
   "source": [
    "marc_df.loc[(\"650\", \"\\\\7\")]"
   ]
  },
  {
   "cell_type": "code",
   "execution_count": null,
   "id": "263ff2db",
   "metadata": {},
   "outputs": [],
   "source": [
    "marc_df.loc[(\"650\", \"\\\\7\")]"
   ]
  },
  {
   "cell_type": "code",
   "execution_count": null,
   "id": "af8b0c16",
   "metadata": {},
   "outputs": [],
   "source": [
    "marc_df.loc[(\"650\", \"\\\\7\")].drop(index=[str(x) for x in range(len(unique_vals), len(marc_df.loc[(\"650\", \"\\\\7\")]))], inplace=True)\n",
    "marc_df.loc[(\"650\", \"\\\\7\")] = unique_vals"
   ]
  },
  {
   "cell_type": "code",
   "execution_count": null,
   "id": "d796f659",
   "metadata": {},
   "outputs": [],
   "source": [
    "marc_df.loc[(\"650\", \"\\\\7\")]"
   ]
  },
  {
   "cell_type": "code",
   "execution_count": null,
   "id": "e9ff01e0",
   "metadata": {},
   "outputs": [],
   "source": [
    "unique_vals.drop(columns=\"unique_vals\")"
   ]
  },
  {
   "cell_type": "code",
   "execution_count": null,
   "id": "79819abe",
   "metadata": {},
   "outputs": [],
   "source": [
    "all_records = cards_df[\"worldcat_matches_subtyped\"].dropna().sum()\n",
    "all_650_raw = [x.get_fields(\"650\") for x in all_records]\n",
    "all_650 = []\n",
    "[all_650.extend(x) if x else None for x in all_650_raw]\n",
    "all_650_indicators = [x.__str__()[6:8] for x in all_650]"
   ]
  },
  {
   "cell_type": "code",
   "execution_count": null,
   "id": "70e98ddc",
   "metadata": {},
   "outputs": [],
   "source": [
    "set(all_650_indicators)"
   ]
  },
  {
   "cell_type": "code",
   "execution_count": null,
   "id": "b039f640",
   "metadata": {},
   "outputs": [],
   "source": [
    "all_650[4].__str__()[6:8]"
   ]
  },
  {
   "cell_type": "code",
   "execution_count": null,
   "id": "05ab39d7",
   "metadata": {},
   "outputs": [],
   "source": [
    "marc_df.xs[(\"650\", )]"
   ]
  },
  {
   "cell_type": "code",
   "execution_count": null,
   "id": "572655e5",
   "metadata": {},
   "outputs": [],
   "source": [
    "def gen_gmap(col):\n",
    "    counts = col.value_counts()\n",
    "    to_highlight = counts[counts > 1]\n",
    "    no_highlight = counts[counts == 1]\n",
    "    colour_vals = np.linspace(0, 1, len(to_highlight) + 2)[1:-1]\n",
    "    mapping = {k:v for k,v in zip(to_highlight.index, colour_vals)}\n",
    "    for val in no_highlight.index:\n",
    "        mapping[val] = -10\n",
    "    return col.map(mapping, na_action='ignore')"
   ]
  },
  {
   "cell_type": "code",
   "execution_count": null,
   "id": "5c2f02d4",
   "metadata": {},
   "outputs": [],
   "source": [
    "gmap = marc_df.apply(gen_gmap, axis=1)\n",
    "gmap[gmap.isna()] = -10\n",
    "gmap[1::3] += 0.05\n",
    "gmap[2::3] += 0.1"
   ]
  },
  {
   "cell_type": "code",
   "execution_count": null,
   "id": "92d2d13e",
   "metadata": {},
   "outputs": [],
   "source": [
    "marc_df.style.background_gradient(gmap=gmap, vmin=0, vmax=1, axis=None)"
   ]
  },
  {
   "cell_type": "code",
   "execution_count": null,
   "id": "c6651a10",
   "metadata": {},
   "outputs": [],
   "source": [
    "type(marc_df.style)"
   ]
  },
  {
   "cell_type": "code",
   "execution_count": null,
   "id": "4c099128",
   "metadata": {},
   "outputs": [],
   "source": [
    "def filter_on_generic_fields(df, fields, terms, include_recs_without_field):\n",
    "    \"\"\"\n",
    "    Input the marc_table_df with all records\n",
    "    sum all repeat columns and transpose to make searching easier\n",
    "    Search each column in fields for the corresponding term in terms\n",
    "    Return a df with only records that match the search terms\n",
    "    @param df:\n",
    "    @param fields:\n",
    "    @param terms:\n",
    "    @return:\n",
    "    \"\"\"\n",
    "    t_df = df.groupby(level=0).sum().T\n",
    "    terms = [x.strip() for x in terms.split(\";\")]\n",
    "    filter_df = pd.concat([t_df[field].str.contains(term) for field, term in zip(fields, terms)], axis=1)\n",
    "    if include_recs_without_field:\n",
    "        filter = filter_df.all(axis=1)\n",
    "    else:\n",
    "        filter = filter_df.where(lambda x: ~x.isna(), False).all(axis=1)\n",
    "    return df.T[filter].T"
   ]
  },
  {
   "cell_type": "code",
   "execution_count": null,
   "id": "55d8e9f0",
   "metadata": {},
   "outputs": [],
   "source": [
    "filter_on_generic_fields(marc_df, [\"001\", \"029\"], \"ocn; CHBIS\", False)"
   ]
  },
  {
   "cell_type": "code",
   "execution_count": null,
   "id": "7c11eeea",
   "metadata": {},
   "outputs": [],
   "source": [
    "filter_df = pd.concat([marc_df.groupby(level=0).sum().T[field].str.contains(term) for field, term in zip([\"001\", \"029\"], [\"ocn\", \"CHBIS\"])], axis=1)"
   ]
  },
  {
   "cell_type": "code",
   "execution_count": null,
   "id": "691d4927",
   "metadata": {},
   "outputs": [],
   "source": [
    "filter_df"
   ]
  },
  {
   "cell_type": "code",
   "execution_count": null,
   "id": "32fa3b93",
   "metadata": {},
   "outputs": [],
   "source": [
    "marc_df.T[filter_df.where(lambda x: ~x.isna(), False).all(axis=1)].T"
   ]
  },
  {
   "cell_type": "code",
   "execution_count": null,
   "id": "0158cf24",
   "metadata": {},
   "outputs": [],
   "source": [
    "filter_df.where(lambda x: ~x.isna(), False).all(axis=1)"
   ]
  },
  {
   "cell_type": "code",
   "execution_count": null,
   "id": "f1a1712b",
   "metadata": {},
   "outputs": [],
   "source": [
    "def blank_nan_format(s):\n",
    "    if np.isnan(s):\n",
    "        return \"\"\n",
    "    else:\n",
    "        return s"
   ]
  },
  {
   "cell_type": "code",
   "execution_count": null,
   "id": "b0e01078",
   "metadata": {},
   "outputs": [],
   "source": [
    "marc_df.style.format(na_rep=\"\")"
   ]
  },
  {
   "cell_type": "code",
   "execution_count": null,
   "id": "2fb16562",
   "metadata": {},
   "outputs": [],
   "source": [
    "cards_df.loc[0, [\"selected_match\", \"match_needs_editing\", \"selected_match_ocn\"]] = None"
   ]
  },
  {
   "cell_type": "code",
   "execution_count": null,
   "id": "5c42d7c6",
   "metadata": {},
   "outputs": [],
   "source": [
    "cards_df"
   ]
  }
 ],
 "metadata": {
  "kernelspec": {
   "display_name": "Python [conda env:cac]",
   "language": "python",
   "name": "conda-env-cac-py"
  },
  "language_info": {
   "codemirror_mode": {
    "name": "ipython",
    "version": 3
   },
   "file_extension": ".py",
   "mimetype": "text/x-python",
   "name": "python",
   "nbconvert_exporter": "python",
   "pygments_lexer": "ipython3",
   "version": "3.11.5"
  }
 },
 "nbformat": 4,
 "nbformat_minor": 5
}
