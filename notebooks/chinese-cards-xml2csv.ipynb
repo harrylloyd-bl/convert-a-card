{
 "cells": [
  {
   "cell_type": "markdown",
   "id": "2ff4f7b2",
   "metadata": {},
   "source": [
    "# Extract information from Chinese catalogue card xmls"
   ]
  },
  {
   "cell_type": "code",
   "execution_count": null,
   "id": "227cb025",
   "metadata": {},
   "outputs": [],
   "source": [
    "from __future__ import annotations\n",
    "import sys\n",
    "if '../' not in sys.path:\n",
    "    sys.path.append('../')\n",
    "import os\n",
    "import glob\n",
    "import re \n",
    "import io\n",
    "import xml.etree.ElementTree as ET\n",
    "from IPython.display import Image\n",
    "from urllib.parse import quote\n",
    "import pickle\n",
    "\n",
    "import matplotlib.pyplot as plt\n",
    "import numpy as np\n",
    "import pandas as pd\n",
    "import requests\n",
    "from pymarc import marcxml, Record\n",
    "from tqdm import tqdm\n",
    "from dotenv import load_dotenv\n",
    "import bookops_worldcat as bw"
   ]
  },
  {
   "cell_type": "code",
   "execution_count": null,
   "id": "d4eb2373",
   "metadata": {},
   "outputs": [],
   "source": [
    "with open(\"..\\\\sidebar_docs.txt\", encoding=\"utf-8\") as f:\n",
    "    docs_txt = f.read()"
   ]
  },
  {
   "cell_type": "code",
   "execution_count": null,
   "id": "af558392",
   "metadata": {},
   "outputs": [],
   "source": [
    "tqdm.pandas()"
   ]
  },
  {
   "cell_type": "markdown",
   "id": "b93dc2c8",
   "metadata": {},
   "source": [
    "## Parsing xmls"
   ]
  },
  {
   "cell_type": "code",
   "execution_count": null,
   "id": "f115f41b",
   "metadata": {},
   "outputs": [],
   "source": [
    "p5_local = \"..\\\\data\\\\raw\\\\chinese\""
   ]
  },
  {
   "cell_type": "code",
   "execution_count": null,
   "id": "856f7c68",
   "metadata": {
    "scrolled": true
   },
   "outputs": [],
   "source": [
    "attempts = 0\n",
    "# page_xml_loc = os.path.join(p5_root, \"page\")\n",
    "page_xml_loc = os.path.join(p5_local, \"1016992\")\n",
    "while attempts < 3:\n",
    "    xmls = glob.glob(os.path.join(p5_local, \"1016992\", \"*.pxml\"))\n",
    "    if len(xmls) > 0:\n",
    "        break\n",
    "    else:\n",
    "        attempts += 1\n",
    "        continue\n",
    "else:\n",
    "    raise IOError(f\"Failed to connect to {page_xml_loc}\")\n",
    "    \n",
    "xmls"
   ]
  },
  {
   "cell_type": "code",
   "execution_count": null,
   "id": "9c44a8e2",
   "metadata": {},
   "outputs": [],
   "source": [
    "xmlroots = []\n",
    "print(f\"\\nGetting xml roots from {page_xml_loc}\")\n",
    "for file in tqdm(xmls):\n",
    "    fileName = os.fsdecode(file)\n",
    "    attempts = 0\n",
    "    while attempts < 3:\n",
    "        try:\n",
    "            tree = ET.parse(fileName)\n",
    "            break\n",
    "        except FileNotFoundError:\n",
    "            attempts += 1\n",
    "            continue\n",
    "    else:\n",
    "        raise FileNotFoundError(f\"Failed to connect to: {fileName}\")\n",
    "    root = tree.getroot()\n",
    "    xmlroots.append(root)"
   ]
  },
  {
   "cell_type": "code",
   "execution_count": null,
   "id": "87e4d9c3",
   "metadata": {},
   "outputs": [],
   "source": [
    "len(xmlroots)"
   ]
  },
  {
   "cell_type": "code",
   "execution_count": null,
   "id": "217afb3f",
   "metadata": {},
   "outputs": [],
   "source": [
    "def extractLines(root: xml.etree.ElementTree.Element):\n",
    "    lines = []\n",
    "\n",
    "    textRegions = [x for x in root[1] if len(x) > 2]  # Empty Text Regions Removed\n",
    "\n",
    "    for textRegion in textRegions:\n",
    "        textLines = textRegion[1:-1]  # Skip coordinate data in first child\n",
    "        for textLine in textLines:\n",
    "            lines.append(textLine[-1][0].text)  # Text equivalent for line\n",
    "    return lines\n",
    "\n",
    "def extractLinesForVol(vol: list[xml.etree.ElementTree.Element]):\n",
    "    allLines = []\n",
    "    for root in tqdm(vol):\n",
    "        rootLines = extractLines(root)\n",
    "        allLines.append(rootLines) \n",
    "    return allLines"
   ]
  },
  {
   "cell_type": "code",
   "execution_count": null,
   "id": "c44f9b88",
   "metadata": {},
   "outputs": [],
   "source": [
    "def extractLinesForVol(vol: list[xml.etree.ElementTree.Element]):\n",
    "    allLines = []\n",
    "    for root in tqdm(vol):\n",
    "        rootLines = extractLines(root)\n",
    "        allLines.append(rootLines) \n",
    "    return allLines"
   ]
  },
  {
   "cell_type": "code",
   "execution_count": null,
   "id": "952f7f11",
   "metadata": {},
   "outputs": [],
   "source": [
    "caps_regex = re.compile(\"[A-Z][A-Z][A-Z]+\")\n",
    "c_num_regex = re.compile(\"C\\.[0-9]\")  # C number title references\n",
    "i_num_regex = re.compile(\"I[ABC]\\.\\s[0-9]\")  # I number title references\n",
    "date_regex = re.compile(\"1[45][0-9][0-9]\")  # Date format regexes (specific to this volume)\n",
    "smark_regex = re.compile(\"[0-9]{1,5}[\\s\\.]{1,2}[\\w]{1,3}[\\s\\.]{1,2}[\\w0-9]{1,5}\")\n",
    "author_regex = re.compile(\"[A-Z]+[\\s]+\\([A-Z][a-z]+\\)\")\n",
    "isbn_regex = re.compile(\"ISBN\\s[0-9\\-\\s]+\")"
   ]
  },
  {
   "cell_type": "code",
   "execution_count": null,
   "id": "50d759ca",
   "metadata": {},
   "outputs": [],
   "source": [
    "cards = extractLinesForVol(xmlroots)"
   ]
  },
  {
   "cell_type": "code",
   "execution_count": null,
   "id": "64f26a6f",
   "metadata": {},
   "outputs": [],
   "source": [
    "cards_df_v0 = pd.DataFrame(\n",
    "    data={\n",
    "        \"xml\": [os.path.basename(x) for x in xmls],\n",
    "        \"lines\": cards,\n",
    "        \"dummy\": [None for x in cards]\n",
    "    }\n",
    ")"
   ]
  },
  {
   "cell_type": "code",
   "execution_count": null,
   "id": "f2c6b6a4",
   "metadata": {},
   "outputs": [],
   "source": [
    "def find_author(lines, dummy):\n",
    "    author, title = None, None\n",
    "    \n",
    "    for i, l in enumerate(lines):\n",
    "        if author_regex.search(l):  # look for an author format match\n",
    "            author = l\n",
    "            break\n",
    "    \n",
    "    if author:\n",
    "        if i >= 2:  # author is after the second line (where we expect the title)\n",
    "            title = \" \".join(lines[1:i])\n",
    "        elif i == 1:  # author is the second line\n",
    "            title = lines[2]\n",
    "    else:\n",
    "        title = lines[1]  # default to the title being the second line\n",
    "        \n",
    "    return title, author"
   ]
  },
  {
   "cell_type": "code",
   "execution_count": null,
   "id": "20fdbf36",
   "metadata": {},
   "outputs": [],
   "source": [
    "def isbn_search(x):\n",
    "    if type(x) is not list:\n",
    "        raise TypeError(f\"List expected not {type(x)}\")\n",
    "    res = isbn_regex.search(\"\".join(x))\n",
    "    if res:\n",
    "        return res.group().replace(\"-\", \"\").replace(\" \", \"\").lstrip(\"ISBN\")\n",
    "    else:\n",
    "        return None"
   ]
  },
  {
   "cell_type": "code",
   "execution_count": null,
   "id": "ed6980ef",
   "metadata": {},
   "outputs": [],
   "source": [
    "def shelfmark_search(x):\n",
    "    if smark_regex.search(x[0]):\n",
    "        result = smark_regex.search(x[0]).group()\n",
    "    elif smark_regex.search(x[1]):\n",
    "        result = smark_regex.search(x[1]).group()\n",
    "    else:\n",
    "        return None\n",
    "    return result.replace(\" \", \"\")"
   ]
  },
  {
   "cell_type": "code",
   "execution_count": null,
   "id": "26451e6c",
   "metadata": {},
   "outputs": [],
   "source": [
    "cards_df_v0[\"shelfmark\"] = cards_df_v0[\"lines\"].transform(shelfmark_search)\n",
    "t_a = cards_df_v0.loc[:,('lines', 'dummy')].transform(lambda x: find_author(x[0], x[1]), axis=1).rename(columns={\"lines\":\"title\", \"dummy\":\"author\"})\n",
    "cards_df = cards_df_v0.drop(columns=\"dummy\").join(t_a)\n",
    "cards_df[\"isbn\"] = cards_df[\"lines\"].transform(lambda x:isbn_search(x))\n",
    "cards_df[\"title\"] = cards_df[\"title\"].str.replace(\"\\\"\", \"\\'\")"
   ]
  },
  {
   "cell_type": "code",
   "execution_count": null,
   "id": "c358d246",
   "metadata": {
    "scrolled": true
   },
   "outputs": [],
   "source": [
    "cards_df.info()"
   ]
  },
  {
   "cell_type": "code",
   "execution_count": null,
   "id": "e8b308ef-3573-4fa0-b18e-b8c17647e424",
   "metadata": {},
   "outputs": [],
   "source": [
    "# cards_df.to_csv(\"..\\\\data\\\\processed\\\\401_cards_no_oclc.csv\", index=False)"
   ]
  },
  {
   "cell_type": "markdown",
   "id": "e60160a3",
   "metadata": {},
   "source": [
    "## OCLC API Queries"
   ]
  },
  {
   "cell_type": "code",
   "execution_count": null,
   "id": "655a909f",
   "metadata": {},
   "outputs": [],
   "source": [
    "cards_df = pickle.load(open(\"401_cards.p\", \"rb\"))"
   ]
  },
  {
   "cell_type": "code",
   "execution_count": null,
   "id": "2440fdb4",
   "metadata": {},
   "outputs": [],
   "source": [
    "cards_df"
   ]
  },
  {
   "cell_type": "code",
   "execution_count": null,
   "id": "3b425b7c",
   "metadata": {},
   "outputs": [],
   "source": [
    "load_dotenv()\n",
    "client_id = os.environ[\"CLIENT_ID\"]\n",
    "client_secret = os.environ[\"CLIENT_SECRET\"]"
   ]
  },
  {
   "cell_type": "code",
   "execution_count": null,
   "id": "2f463886-f84e-476f-a8cf-5e24f43339e2",
   "metadata": {},
   "outputs": [],
   "source": [
    "token = bw.WorldcatAccessToken(\n",
    "    key=client_id,\n",
    "    secret=client_secret,\n",
    "    scopes=\"WorldCatMetadataAPI\"\n",
    ")\n",
    "\n",
    "session = bw.MetadataSession(authorization=token)"
   ]
  },
  {
   "cell_type": "code",
   "execution_count": null,
   "id": "22049e18",
   "metadata": {},
   "outputs": [],
   "source": [
    "def list_formats(recs):\n",
    "    if not recs.get(\"briefRecords\"):\n",
    "        return None\n",
    "    else:\n",
    "        return [(x.get(\"generalFormat\"), x.get(\"specificFormat\")) for x in recs[\"briefRecords\"]]\n",
    "\n",
    "formats = cards_df[\"brief_bibs\"].apply(lambda x:list_formats(x))\n",
    "set(formats.dropna().sum())"
   ]
  },
  {
   "cell_type": "code",
   "execution_count": null,
   "id": "73d829d7",
   "metadata": {},
   "outputs": [],
   "source": [
    "# item_subtypes = \"artchap-artcl, book-mic, book-thsis, book-printbook, jrnl-print\""
   ]
  },
  {
   "cell_type": "code",
   "execution_count": null,
   "id": "8312c2be",
   "metadata": {},
   "outputs": [],
   "source": [
    "# itemSubType devised by looking at itemSubType for all returned records\n",
    "# help.oclc.org/Librarian_Toolbox/Searching_WorldCat_Indexes/Bibliographic_records/Format_Document_Type_values_and_codes/WorldShare_and_WorldCat_Discovery\n",
    "search_kwargs = {\n",
    "    \"inCatalogLanguage\":None,\n",
    "    \"limit\": 50,\n",
    "    \"orderBy\": \"bestMatch\",\n",
    "    \"itemSubType\": \"artchap-artcl, book-mic, book-thsis, book-printbook, jrnl-print\"\n",
    "}"
   ]
  },
  {
   "cell_type": "code",
   "execution_count": null,
   "id": "92e644c0",
   "metadata": {},
   "outputs": [],
   "source": [
    "def apply_search_brief_bib(ti=None, au=None, isbn=None, session=None, search_kwargs={}):\n",
    "    \"\"\"\n",
    "    search_brief_bib applicable to df\n",
    "    Known issue with specifying offset/limit\n",
    "    So specify acceptable itemSubTypes and hope correct result is in first 50 records\n",
    "    \"\"\"\n",
    "    \n",
    "    res = None\n",
    "    \n",
    "    if isbn:\n",
    "        query = f'bn:{isbn}'\n",
    "        res = session.brief_bibs_search(q=query, **search_kwargs)\n",
    "        \n",
    "    if not res or res.json()[\"numberOfRecords\"] == 0:\n",
    "        query = f'ti:\"{ti}\" and au:\"{au}\"'\n",
    "        res = session.brief_bibs_search(q=query, **search_kwargs)\n",
    "    \n",
    "    return res.json()\n",
    "\n",
    "def apply_get_full_bib(brief_bibs, session):\n",
    "    if brief_bibs[\"numberOfRecords\"] == 0:\n",
    "        return None\n",
    "    else:\n",
    "        recs = brief_bibs[\"briefRecords\"]\n",
    "        matched_xml = [session.bib_get(rec[\"oclcNumber\"]).text for rec in recs]\n",
    "        matched_records = [marcxml.parse_xml_to_array(io.StringIO(x))[0] for x in matched_xml]\n",
    "        return matched_records"
   ]
  },
  {
   "cell_type": "code",
   "execution_count": null,
   "id": "10577785",
   "metadata": {},
   "outputs": [],
   "source": [
    "cards_df[\"brief_bibs_subtyped\"] = cards_df.progress_apply(lambda x: apply_search_brief_bib(x[\"title\"], x[\"author\"], x[\"isbn\"], session=session, search_kwargs=search_kwargs), axis=1)\n",
    "cards_df[\"num_records_subtyped\"] = cards_df[\"brief_bibs_subtyped\"].apply(lambda x: x[\"numberOfRecords\"])"
   ]
  },
  {
   "cell_type": "code",
   "execution_count": null,
   "id": "412adec3-a531-43db-8bc3-86df3b8305c9",
   "metadata": {},
   "outputs": [],
   "source": [
    "cards_df[\"worldcat_matches_subtyped\"] = cards_df[\"brief_bibs_subtyped\"].progress_apply(apply_get_full_bib, session=session)\n",
    "cards_df[\"selected_match_ocn\"], cards_df[\"selected_match\"], cards_df[\"match_needs_editing\"] = None, None, None "
   ]
  },
  {
   "cell_type": "code",
   "execution_count": null,
   "id": "36cf500f",
   "metadata": {},
   "outputs": [],
   "source": [
    "def count_field_occurences(lst):\n",
    "    fields = []\n",
    "    if lst:\n",
    "        [fields.extend([y.tag for y in r.fields]) for r in lst]\n",
    "    return fields"
   ]
  },
  {
   "cell_type": "code",
   "execution_count": null,
   "id": "36357cbe",
   "metadata": {},
   "outputs": [],
   "source": [
    "field_sum = cards_df[\"worldcat_matches_subtyped\"].apply(count_field_occurences)"
   ]
  },
  {
   "cell_type": "code",
   "execution_count": null,
   "id": "87d9586a",
   "metadata": {},
   "outputs": [],
   "source": [
    "all_fields = pd.Series(index=field_sum.sum(), data=np.ones(len(field_sum.sum())))\n",
    "#all_fields.groupby().count()"
   ]
  },
  {
   "cell_type": "code",
   "execution_count": null,
   "id": "e412c4e7",
   "metadata": {},
   "outputs": [],
   "source": [
    "all_fields.groupby(level=0).count().head(50)#.sort_values(ascending=False).head(50)"
   ]
  },
  {
   "cell_type": "code",
   "execution_count": null,
   "id": "020d94c4",
   "metadata": {},
   "outputs": [],
   "source": [
    "def check_field_contents(lst):\n",
    "    if lst:\n",
    "        nat_bib_ctrl = []\n",
    "        [nat_bib_ctrl.extend(r.get_fields(\"016\")) for r in lst]\n",
    "        if nat_bib_ctrl:\n",
    "            return list(set(nat_bib_ctrl))\n",
    "        else:\n",
    "            return None\n",
    "    else:\n",
    "        return None"
   ]
  },
  {
   "cell_type": "code",
   "execution_count": null,
   "id": "2544fcfd",
   "metadata": {},
   "outputs": [],
   "source": [
    "nat_bib_agencies = cards_df[\"worldcat_matches_subtyped\"].apply(check_field_contents).dropna()"
   ]
  },
  {
   "cell_type": "code",
   "execution_count": null,
   "id": "4e4ac40d",
   "metadata": {},
   "outputs": [],
   "source": [
    "def find_2_subfield(lst):\n",
    "    return [r.get_subfields(\"2\") for r in lst]"
   ]
  },
  {
   "cell_type": "code",
   "execution_count": null,
   "id": "d0384ab2",
   "metadata": {},
   "outputs": [],
   "source": [
    "subf_2 = pd.Series([x[0] for x in nat_bib_agencies.apply(find_2_subfield).sum() if x])"
   ]
  },
  {
   "cell_type": "code",
   "execution_count": null,
   "id": "93f823cc",
   "metadata": {},
   "outputs": [],
   "source": [
    "pd.Series(index=subf_2, data=np.ones(len(subf_2))).groupby(level=0).count()"
   ]
  },
  {
   "cell_type": "code",
   "execution_count": null,
   "id": "dc479e43-e3a0-436b-a4e8-87abc52b4837",
   "metadata": {},
   "outputs": [],
   "source": [
    "# pickle.dump(cards_df, open(\"401_cards.p\", \"wb\"))\n",
    "# cards_df.to_csv(\"..\\\\data\\\\processed\\\\401_cards.csv\")"
   ]
  },
  {
   "cell_type": "markdown",
   "id": "b7a77b2d",
   "metadata": {},
   "source": [
    "### Explore bug with offset/limit\n",
    "https://community.oclc.org/t5/oclc-apis-discussions/worldcat-metadata-search-brief-bibs-amp-limit-and-amp-offset/td-p/49236"
   ]
  },
  {
   "cell_type": "code",
   "execution_count": null,
   "id": "d7c55a41",
   "metadata": {},
   "outputs": [],
   "source": [
    "big_ones = cards_df[cards_df[\"num_records\"] > 50].iloc[:2].progress_apply(lambda x: apply_search_brief_bib(x[\"title\"], x[\"author\"], x[\"isbn\"], session=session), axis=1)"
   ]
  },
  {
   "cell_type": "code",
   "execution_count": null,
   "id": "d3f35df2",
   "metadata": {},
   "outputs": [],
   "source": [
    "big_ones"
   ]
  },
  {
   "cell_type": "code",
   "execution_count": null,
   "id": "074a1999",
   "metadata": {},
   "outputs": [],
   "source": [
    "query_test = f'ti:\"FEI LONG QUAN ZHUAN\" and au:\"WU (Xuan)\"'"
   ]
  },
  {
   "cell_type": "code",
   "execution_count": null,
   "id": "141f73e4",
   "metadata": {},
   "outputs": [],
   "source": [
    "first_50 = session.search_brief_bibs(q=query_test, inCatalogLanguage=None, limit=50, orderBy=\"bestMatch\")\n",
    "first_50_oclc = [x[\"oclcNumber\"] for x in first_50.json()[\"briefRecords\"]]"
   ]
  },
  {
   "cell_type": "code",
   "execution_count": null,
   "id": "70ba9185",
   "metadata": {},
   "outputs": [],
   "source": [
    "unique_oclcs = []\n",
    "unique_oclcs.extend(first_50_oclc)"
   ]
  },
  {
   "cell_type": "code",
   "execution_count": null,
   "id": "006ba742",
   "metadata": {},
   "outputs": [],
   "source": [
    "second_20 = session.search_brief_bibs(q=query_test, inCatalogLanguage=None, offset=51, limit=24, orderBy=\"bestMatch\")"
   ]
  },
  {
   "cell_type": "code",
   "execution_count": null,
   "id": "ea443469",
   "metadata": {},
   "outputs": [],
   "source": [
    "len(first_50.json()[\"briefRecords\"]), len(second_20.json()[\"briefRecords\"])"
   ]
  },
  {
   "cell_type": "code",
   "execution_count": null,
   "id": "bdefd7df",
   "metadata": {},
   "outputs": [],
   "source": [
    "second_20_oclc = [x[\"oclcNumber\"] for x in second_20.json()[\"briefRecords\"]]"
   ]
  },
  {
   "cell_type": "code",
   "execution_count": null,
   "id": "d4a9e402",
   "metadata": {},
   "outputs": [],
   "source": [
    "[x for x in second_20_oclc if x in first_50_oclc]"
   ]
  },
  {
   "cell_type": "code",
   "execution_count": null,
   "id": "251961de",
   "metadata": {},
   "outputs": [],
   "source": [
    "unique_oclcs.extend(second_20_oclc)"
   ]
  },
  {
   "cell_type": "code",
   "execution_count": null,
   "id": "ed6dcc50",
   "metadata": {},
   "outputs": [],
   "source": [
    "# found all the unique ones in one order by setting limit=24\n",
    "\n",
    "# for x in range(1,25):\n",
    "#     res = session.search_brief_bibs(q=query_test, inCatalogLanguage=None, offset=50, limit=x)\n",
    "#     oclc = [y[\"oclcNumber\"] for y in res.json()[\"briefRecords\"]]\n",
    "#     [unique_oclcs.append(z) for z in oclc if z not in unique_oclcs]"
   ]
  },
  {
   "cell_type": "code",
   "execution_count": null,
   "id": "72d421f2",
   "metadata": {},
   "outputs": [],
   "source": [
    "offset_lim_df = pd.DataFrame(index=unique_oclcs)\n",
    "offset_lim_df.insert(loc=0, column=\"idx\", value=list(range(1, len(unique_oclcs) + 1)))"
   ]
  },
  {
   "cell_type": "code",
   "execution_count": null,
   "id": "9322d2ab",
   "metadata": {},
   "outputs": [],
   "source": [
    "for x in range(1,25):\n",
    "    res = session.search_brief_bibs(q=query_test, inCatalogLanguage=None, offset=51, limit=x, orderBy=\"bestMatch\")\n",
    "    oclc = [y[\"oclcNumber\"] for y in res.json()[\"briefRecords\"]]\n",
    "    oclc_series = pd.Series(index=oclc, data=[x for x in range(1, len(oclc) + 1)], name=str(x))\n",
    "    offset_lim_df = offset_lim_df.join(oclc_series)"
   ]
  },
  {
   "cell_type": "code",
   "execution_count": null,
   "id": "dbf91fc7",
   "metadata": {},
   "outputs": [],
   "source": [
    "pd.options.display.max_columns = 25\n",
    "pd.options.display.max_rows = 75"
   ]
  },
  {
   "cell_type": "code",
   "execution_count": null,
   "id": "8820bd76",
   "metadata": {},
   "outputs": [],
   "source": [
    "# mwh_offset_lim_df = offset_lim_df.copy()"
   ]
  },
  {
   "cell_type": "code",
   "execution_count": null,
   "id": "28be7647",
   "metadata": {},
   "outputs": [],
   "source": [
    "offset_test = session.search_brief_bibs(q=query_test, inCatalogLanguage=None, offset=51, limit=20, orderBy=\"bestMatch\")\n",
    "len(offset_test.json()[\"briefRecords\"])"
   ]
  },
  {
   "cell_type": "code",
   "execution_count": null,
   "id": "314ad1ec",
   "metadata": {},
   "outputs": [],
   "source": [
    "count_df = pd.DataFrame(offset_lim_df.count()).T.rename(index={0:\"Count\"})\n",
    "exp_count_df = count_df.rename(index={\"Count\": \"Expected Count\"})\n",
    "exp_count_df.loc[\"Expected Count\"] = np.arange(25)\n",
    "exp_count_df.loc[\"Expected Count\", \"idx\"] = 70"
   ]
  },
  {
   "cell_type": "code",
   "execution_count": null,
   "id": "c3f30d44",
   "metadata": {},
   "outputs": [],
   "source": [
    "display_df = pd.concat([offset_lim_df, count_df, exp_count_df]).rename(columns={\"idx\":\"Record#\"}).rename_axis(index=\"oclcNumber\", columns=\"&limit=\")\n",
    "display_df"
   ]
  },
  {
   "cell_type": "code",
   "execution_count": null,
   "id": "15c11263",
   "metadata": {},
   "outputs": [],
   "source": [
    "idx = pd.IndexSlice\n",
    "slice_ = idx[idx[\"760523067\":\"300845905\"], idx[\"1\":\"24\"]]\n",
    "display_df.style.hide(subset=slice(\"680615393\", \"300642591\"), axis=0) \\\n",
    "            .format(precision=0) \\\n",
    "            .background_gradient(axis=None, vmin=0, vmax=40, cmap=\"BuGn\", subset=slice_).highlight_null(\"white\")"
   ]
  },
  {
   "cell_type": "markdown",
   "id": "ddf68708",
   "metadata": {},
   "source": [
    "### Result selection"
   ]
  },
  {
   "cell_type": "markdown",
   "id": "89160444",
   "metadata": {},
   "source": [
    "Once the results are back from Worldcat we need to pick which to use if multiple have been returned. For Urdu this is less of an issue as there are fewer results returned. For Chinese there are in some instances upwards of 500 records so we do need to select.\n",
    "\n",
    "Victoria Morris suggested:\n",
    "- Leader position 17\n",
    "    - Encoding level, avoid 3/5/7\n",
    "- 016 where \\$2 subfield contains Uk (existing BL holding)\n",
    "    - 16 is National bibliographic agency control number, $2Uk indicates it's the BL\n",
    "- 040 \n",
    "    - Cataloguing source (if \"OCLC\" appears lots of times then that's good)\n",
    "- 042\n",
    "    - Authentication code (quality control process)\n",
    "- 100/110 and 245 (Searching on these)\n",
    "    - Author/Corporate Author and Title\n",
    "- 264/260\n",
    "    - Old/new format publication information - 260 preferable to 264\n",
    "- 300\n",
    "    - Physical description\n",
    "- 6XX \n",
    "    - Subject access\n",
    "- 880 fields (linked to 100/245 or otherwise)\n",
    "    - Linked to other fields, indicating original text formats"
   ]
  },
  {
   "cell_type": "code",
   "execution_count": null,
   "id": "33e6a89a",
   "metadata": {},
   "outputs": [],
   "source": [
    "def n_str(record, string):\n",
    "    if type(record) is Record:\n",
    "        f040 = record.get_fields(\"040\")[0].text().split(\" \")\n",
    "        oclc_occurences = sum([1 for x in f040 if string in x])\n",
    "        return oclc_occurences\n",
    "    else:\n",
    "        return None\n",
    "\n",
    "    \n",
    "def len_record(record):\n",
    "    return len(record.get_fields())\n",
    "\n",
    "\n",
    "def apply_n_str(x, string):\n",
    "    if type(x) is dict:\n",
    "        return [n_str(v, string) for v in x.values()]\n",
    "    else:\n",
    "        return None\n",
    "\n",
    "    \n",
    "def apply_len_record(x):\n",
    "    if type(x) is dict:\n",
    "        return [len_record(v) for v in x.values()]\n",
    "    else:\n",
    "        return None\n",
    "    \n",
    "    \n",
    "def blx_holdings_exist(record):\n",
    "    no_holdings = \"NO HOLDINGS IN BLX\" in record.get_fields(\"948\")[0].text()\n",
    "    if record.get_fields(\"016\"):\n",
    "        bl_system_number = \"$2Uk\" not in record.get_fields(\"016\")[0].__str__()\n",
    "    if no_holdings or bl_system_number:\n",
    "        return 0\n",
    "    else:\n",
    "        return 1"
   ]
  },
  {
   "cell_type": "code",
   "execution_count": null,
   "id": "58c0e450",
   "metadata": {},
   "outputs": [],
   "source": [
    "len(all_records)"
   ]
  },
  {
   "cell_type": "code",
   "execution_count": null,
   "id": "a38ac708",
   "metadata": {},
   "outputs": [],
   "source": [
    "blx_holdings = [blx_holdings_exist(r) for r in all_records]"
   ]
  },
  {
   "cell_type": "code",
   "execution_count": null,
   "id": "1afeaf84",
   "metadata": {},
   "outputs": [],
   "source": [
    "sum(blx_holdings)"
   ]
  },
  {
   "cell_type": "code",
   "execution_count": null,
   "id": "35568502",
   "metadata": {},
   "outputs": [],
   "source": [
    "oclc_count = res.apply(apply_n_str, string=\"OCLC\")\n",
    "bl_count = res.apply(apply_n_str, string=\"BLX\")\n",
    "record_len = res.apply(apply_len_record)"
   ]
  },
  {
   "cell_type": "code",
   "execution_count": null,
   "id": "99839f2f",
   "metadata": {},
   "outputs": [],
   "source": [
    "cards_df[\"040_oclc_count\"] = oclc_count\n",
    "cards_df[\"040_bl_count\"] = bl_count\n",
    "cards_df[\"record_len\"] = record_len"
   ]
  },
  {
   "cell_type": "code",
   "execution_count": null,
   "id": "5e02a9b5",
   "metadata": {},
   "outputs": [],
   "source": [
    "sum(cards_df['040_bl_count'].dropna().sum())"
   ]
  },
  {
   "cell_type": "code",
   "execution_count": null,
   "id": "e22e5e96",
   "metadata": {},
   "outputs": [],
   "source": [
    "record_len.dropna().apply(lambda x: len(x)).describe()"
   ]
  },
  {
   "cell_type": "code",
   "execution_count": null,
   "id": "4599790a",
   "metadata": {},
   "outputs": [],
   "source": [
    "record_len.dropna().apply(lambda x: len(x)).hist(bins=40)"
   ]
  },
  {
   "cell_type": "code",
   "execution_count": null,
   "id": "54a720cf",
   "metadata": {},
   "outputs": [],
   "source": [
    "cards_df.dropna(subset=[\"040_oclc_count\"])"
   ]
  },
  {
   "cell_type": "code",
   "execution_count": null,
   "id": "0141a795",
   "metadata": {},
   "outputs": [],
   "source": [
    "oclc_count_df = pd.DataFrame(\n",
    "    data={\n",
    "        \"040_oclc_count\": cards_df['040_oclc_count'].dropna().sum(),\n",
    "        \"record_len\": cards_df['record_len'].dropna().sum(),\n",
    "    }\n",
    ")"
   ]
  },
  {
   "cell_type": "code",
   "execution_count": null,
   "id": "e256966f",
   "metadata": {},
   "outputs": [],
   "source": [
    "oclc_count_df.shape"
   ]
  },
  {
   "cell_type": "code",
   "execution_count": null,
   "id": "83406a07",
   "metadata": {},
   "outputs": [],
   "source": [
    "fig, ax = plt.subplots(figsize=(12,8))\n",
    "ax.scatter(\"record_len\", \"040_oclc_count\", data=oclc_count_df)\n",
    "ax.set_xlabel(\"Fields in record\", fontsize='x-large')\n",
    "ax.set_ylabel(\"Occurences of 'OCLC' in MARC field 040\", fontsize='x-large')\n",
    "ax.set_title(\"Relationship between number of occurences of 'OCLC'\\nin MARC field 040 in a record and total fields in a record\", fontsize=\"x-large\")\n",
    "ax.tick_params(labelsize=\"x-large\")"
   ]
  },
  {
   "cell_type": "code",
   "execution_count": null,
   "id": "6b834bc1",
   "metadata": {},
   "outputs": [],
   "source": [
    "# fig.savefig(\"..//reports//figures//OCLC_record_length.png\", dpi=300, bbox_inches=\"tight\")"
   ]
  }
 ],
 "metadata": {
  "kernelspec": {
   "display_name": "Python [conda env:cac]",
   "language": "python",
   "name": "conda-env-cac-py"
  },
  "language_info": {
   "codemirror_mode": {
    "name": "ipython",
    "version": 3
   },
   "file_extension": ".py",
   "mimetype": "text/x-python",
   "name": "python",
   "nbconvert_exporter": "python",
   "pygments_lexer": "ipython3",
   "version": "3.11.5"
  }
 },
 "nbformat": 4,
 "nbformat_minor": 5
}
