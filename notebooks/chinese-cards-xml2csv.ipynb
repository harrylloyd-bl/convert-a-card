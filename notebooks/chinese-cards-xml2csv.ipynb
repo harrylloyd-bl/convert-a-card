{
 "cells": [
  {
   "cell_type": "markdown",
   "id": "2ff4f7b2",
   "metadata": {},
   "source": [
    "# Extract information from Chinese catalogue card xmls"
   ]
  },
  {
   "cell_type": "code",
   "execution_count": null,
   "id": "227cb025",
   "metadata": {},
   "outputs": [],
   "source": [
    "from __future__ import annotations\n",
    "import sys\n",
    "if '../' not in sys.path:\n",
    "    sys.path.append('../')\n",
    "import os\n",
    "import glob\n",
    "import re \n",
    "import xml.etree.ElementTree as ET\n",
    "from IPython.display import Image\n",
    "from numpy import object_\n",
    "import pandas as pd\n",
    "import requests\n",
    "import pickle\n",
    "import matplotlib.pyplot as plt\n",
    "from z3950.PyZ3950 import zoom\n",
    "from z3950.Marc.marc_tools import Record\n",
    "from tqdm import tqdm"
   ]
  },
  {
   "cell_type": "markdown",
   "id": "b93dc2c8",
   "metadata": {},
   "source": [
    "## Parsing xmls"
   ]
  },
  {
   "cell_type": "code",
   "execution_count": null,
   "id": "f115f41b",
   "metadata": {},
   "outputs": [],
   "source": [
    "p5_local = \"..\\\\data\\\\raw\\\\chinese\""
   ]
  },
  {
   "cell_type": "code",
   "execution_count": null,
   "id": "856f7c68",
   "metadata": {
    "scrolled": true
   },
   "outputs": [],
   "source": [
    "attempts = 0\n",
    "# page_xml_loc = os.path.join(p5_root, \"page\")\n",
    "page_xml_loc = os.path.join(p5_local, \"1016992\")\n",
    "while attempts < 3:\n",
    "    xmls = glob.glob(os.path.join(p5_local, \"1016992\", \"*.pxml\"))\n",
    "    if len(xmls) > 0:\n",
    "        break\n",
    "    else:\n",
    "        attempts += 1\n",
    "        continue\n",
    "else:\n",
    "    raise IOError(f\"Failed to connect to {page_xml_loc}\")\n",
    "    \n",
    "xmls"
   ]
  },
  {
   "cell_type": "code",
   "execution_count": null,
   "id": "9c44a8e2",
   "metadata": {},
   "outputs": [],
   "source": [
    "xmlroots = []\n",
    "print(f\"\\nGetting xml roots from {page_xml_loc}\")\n",
    "for file in tqdm(xmls):\n",
    "    fileName = os.fsdecode(file)\n",
    "    attempts = 0\n",
    "    while attempts < 3:\n",
    "        try:\n",
    "            tree = ET.parse(fileName)\n",
    "            break\n",
    "        except FileNotFoundError:\n",
    "            attempts += 1\n",
    "            continue\n",
    "    else:\n",
    "        raise FileNotFoundError(f\"Failed to connect to: {fileName}\")\n",
    "    root = tree.getroot()\n",
    "    xmlroots.append(root)"
   ]
  },
  {
   "cell_type": "code",
   "execution_count": null,
   "id": "87e4d9c3",
   "metadata": {},
   "outputs": [],
   "source": [
    "len(xmlroots)"
   ]
  },
  {
   "cell_type": "code",
   "execution_count": null,
   "id": "217afb3f",
   "metadata": {},
   "outputs": [],
   "source": [
    "def extractLines(root: xml.etree.ElementTree.Element):\n",
    "    lines = []\n",
    "\n",
    "    textRegions = [x for x in root[1] if len(x) > 2]  # Empty Text Regions Removed\n",
    "\n",
    "    for textRegion in textRegions:\n",
    "        textLines = textRegion[1:-1]  # Skip coordinate data in first child\n",
    "        for textLine in textLines:\n",
    "            lines.append(textLine[-1][0].text)  # Text equivalent for line\n",
    "    return lines\n",
    "\n",
    "def extractLinesForVol(vol: list[xml.etree.ElementTree.Element]):\n",
    "    allLines = []\n",
    "    for root in tqdm(vol):\n",
    "        rootLines = extractLines(root)\n",
    "        allLines.append(rootLines) \n",
    "    return allLines"
   ]
  },
  {
   "cell_type": "code",
   "execution_count": null,
   "id": "c44f9b88",
   "metadata": {},
   "outputs": [],
   "source": [
    "def extractLinesForVol(vol: list[xml.etree.ElementTree.Element]):\n",
    "    allLines = []\n",
    "    for root in tqdm(vol):\n",
    "        rootLines = extractLines(root)\n",
    "        allLines.append(rootLines) \n",
    "    return allLines"
   ]
  },
  {
   "cell_type": "code",
   "execution_count": null,
   "id": "952f7f11",
   "metadata": {},
   "outputs": [],
   "source": [
    "caps_regex = re.compile(\"[A-Z][A-Z][A-Z]+\")\n",
    "c_num_regex = re.compile(\"C\\.[0-9]\")  # C number title references\n",
    "i_num_regex = re.compile(\"I[ABC]\\.\\s[0-9]\")  # I number title references\n",
    "date_regex = re.compile(\"1[45][0-9][0-9]\")  # Date format regexes (specific to this volume)\n",
    "smark_regex = re.compile(\"[0-9]{1,5}[\\s\\.]{1,2}[\\w]{1,3}[\\s\\.]{1,2}[\\w0-9]{1,5}\")\n",
    "author_regex = re.compile(\"[A-Z]+[\\s]+\\([A-Z][a-z]+\\)\")\n",
    "isbn_regex = re.compile(\"ISBN\\s[0-9\\-\\s]+\")"
   ]
  },
  {
   "cell_type": "code",
   "execution_count": null,
   "id": "50d759ca",
   "metadata": {},
   "outputs": [],
   "source": [
    "cards = extractLinesForVol(xmlroots)"
   ]
  },
  {
   "cell_type": "code",
   "execution_count": null,
   "id": "64f26a6f",
   "metadata": {},
   "outputs": [],
   "source": [
    "cards_df_v0 = pd.DataFrame(\n",
    "    data={\n",
    "        \"xml\": [os.path.basename(x) for x in xmls],\n",
    "        \"lines\": cards,\n",
    "        \"dummy\": [None for x in cards]\n",
    "    }\n",
    ")"
   ]
  },
  {
   "cell_type": "code",
   "execution_count": null,
   "id": "f2c6b6a4",
   "metadata": {},
   "outputs": [],
   "source": [
    "def find_author(lines, dummy):\n",
    "    author, title = None, None\n",
    "    \n",
    "    for i, l in enumerate(lines):\n",
    "        if author_regex.search(l):  # look for an author format match\n",
    "            author = l\n",
    "            break\n",
    "    \n",
    "    if author:\n",
    "        if i >= 2:  # author is after the second line (where we expect the title)\n",
    "            title = \" \".join(lines[1:i])\n",
    "        elif i == 1:  # author is the second line\n",
    "            title = lines[2]\n",
    "    else:\n",
    "        title = lines[1]  # default to the title being the second line\n",
    "        \n",
    "    return title, author"
   ]
  },
  {
   "cell_type": "code",
   "execution_count": null,
   "id": "20fdbf36",
   "metadata": {},
   "outputs": [],
   "source": [
    "def isbn_search(x):\n",
    "    if type(x) is not list:\n",
    "        raise TypeError(f\"List expected not {type(x)}\")\n",
    "    res = isbn_regex.search(\"\".join(x))\n",
    "    if res:\n",
    "        return res.group().replace(\"-\", \"\").replace(\" \", \"\").lstrip(\"ISBN\")\n",
    "    else:\n",
    "        return None"
   ]
  },
  {
   "cell_type": "code",
   "execution_count": null,
   "id": "ed6980ef",
   "metadata": {},
   "outputs": [],
   "source": [
    "def shelfmark_search(x):\n",
    "    if smark_regex.search(x[0]):\n",
    "        result = smark_regex.search(x[0]).group()\n",
    "    elif smark_regex.search(x[1]):\n",
    "        result = smark_regex.search(x[1]).group()\n",
    "    else:\n",
    "        return None\n",
    "    return result.replace(\" \", \"\")"
   ]
  },
  {
   "cell_type": "code",
   "execution_count": null,
   "id": "26451e6c",
   "metadata": {},
   "outputs": [],
   "source": [
    "cards_df_v0[\"shelfmark\"] = cards_df_v0[\"lines\"].transform(shelfmark_search)\n",
    "t_a = cards_df_v0.loc[:,('lines', 'dummy')].transform(lambda x: find_author(x[0], x[1]), axis=1).rename(columns={\"lines\":\"title\", \"dummy\":\"author\"})\n",
    "cards_df = cards_df_v0.drop(columns=\"dummy\").join(t_a)\n",
    "cards_df[\"ISBN\"] = cards_df[\"lines\"].transform(lambda x:isbn_search(x))\n",
    "cards_df[\"title\"] = cards_df[\"title\"].str.replace(\"\\\"\", \"\\'\")"
   ]
  },
  {
   "cell_type": "code",
   "execution_count": null,
   "id": "cef83b87",
   "metadata": {},
   "outputs": [],
   "source": [
    "cards_df.dropna()"
   ]
  },
  {
   "cell_type": "code",
   "execution_count": null,
   "id": "c358d246",
   "metadata": {},
   "outputs": [],
   "source": [
    "cards_df.info()"
   ]
  },
  {
   "cell_type": "code",
   "execution_count": null,
   "id": "55324e68",
   "metadata": {},
   "outputs": [],
   "source": [
    "def OCLC_query(title=\"\", author=\"\", ISBN=None):\n",
    "    # TODO Connection currently only handles 450 results at once before closing, extend or allow to reopen after 450\n",
    "    conn = zoom.Connection(\n",
    "        host='zcat.oclc.org',\n",
    "        port=210,\n",
    "        user='100270667',\n",
    "        password='oclccat',\n",
    "        databaseName='OLUCWorldCat',\n",
    "        preferredRecordSyntax='USMARC',\n",
    "        charset=\"UTF-8\"\n",
    "    )\n",
    "    res = None\n",
    "    \n",
    "    if author is None:\n",
    "        author = \"\"\n",
    "        \n",
    "    if ISBN:\n",
    "        q = f'isbn=\"{ISBN}\"'\n",
    "        print(q)\n",
    "        query = zoom.Query(typ=\"CCL\", query=q)\n",
    "        res = conn.search(query)\n",
    "\n",
    "    if not res:\n",
    "        q = f'ti=\"{title}\" and au=\"{author}\"'\n",
    "        print(q)\n",
    "        query = zoom.Query(typ=\"CCL\", query=q)\n",
    "        res = conn.search(query)\n",
    "\n",
    "    if res:\n",
    "        try:\n",
    "            res_dict = {i: r for i, r in enumerate(res)}\n",
    "            conn.close()\n",
    "            return res_dict\n",
    "        except zoom.Bib1Err:\n",
    "            print(\"Bib1Err\")\n",
    "            return \"Bib1Err\"\n",
    "        except zoom.ProtocolError:\n",
    "            print(\"ProtocolError - likely Diag\")\n",
    "            return \"ProtocolError\"\n",
    "        except TypeError:\n",
    "            print(\"Diag error\")\n",
    "            return None\n",
    "    else:\n",
    "        conn.close()\n",
    "        return None\n"
   ]
  },
  {
   "cell_type": "code",
   "execution_count": null,
   "id": "a764cb1a",
   "metadata": {},
   "outputs": [],
   "source": [
    "res = cards_df.loc[245:255].apply(lambda x: OCLC_query(x['title'], x['author'], x['ISBN']),axis=1)"
   ]
  },
  {
   "cell_type": "code",
   "execution_count": null,
   "id": "cf27246f",
   "metadata": {},
   "outputs": [],
   "source": [
    "pickle.dump(res, open(\"401_res.p\", 'wb'))"
   ]
  },
  {
   "cell_type": "code",
   "execution_count": null,
   "id": "d3d9f9c3",
   "metadata": {},
   "outputs": [],
   "source": [
    "# res = pickle.load(open(\"res.p\", \"rb\"))  # pickled it because it takes about 10 mins to run the query"
   ]
  },
  {
   "cell_type": "code",
   "execution_count": null,
   "id": "9a828888",
   "metadata": {},
   "outputs": [],
   "source": [
    "all_records = res[res.str.contains(\"Error\").isna()].dropna().apply(lambda x:[v for v in x.values()]).sum()"
   ]
  },
  {
   "cell_type": "code",
   "execution_count": null,
   "id": "38cece54",
   "metadata": {},
   "outputs": [],
   "source": [
    "cards_df['worldcat_result'] = res"
   ]
  },
  {
   "cell_type": "code",
   "execution_count": null,
   "id": "347f1160",
   "metadata": {},
   "outputs": [],
   "source": [
    "print(cards_df.loc[0, \"worldcat_result\"][0])"
   ]
  },
  {
   "cell_type": "code",
   "execution_count": null,
   "id": "56ab65da",
   "metadata": {},
   "outputs": [],
   "source": [
    "sample_match_indices = [\n",
    "    [0, 0, 1, 3],\n",
    "    [1, 0, 1, 2],\n",
    "    [6, 0, 1, 2]\n",
    "]"
   ]
  },
  {
   "cell_type": "code",
   "execution_count": null,
   "id": "716794e7",
   "metadata": {},
   "outputs": [],
   "source": [
    "cards_df.dropna(subset=\"worldcat_result\").iloc[6]"
   ]
  },
  {
   "cell_type": "code",
   "execution_count": null,
   "id": "2b287f1c",
   "metadata": {},
   "outputs": [],
   "source": [
    "idx"
   ]
  },
  {
   "cell_type": "code",
   "execution_count": null,
   "id": "780c36f0",
   "metadata": {},
   "outputs": [],
   "source": [
    "cards_df.dropna(subset=\"worldcat_result\").iloc[1, -4]"
   ]
  },
  {
   "cell_type": "code",
   "execution_count": null,
   "id": "141e24fa",
   "metadata": {},
   "outputs": [],
   "source": [
    "for idx in sample_match_indices:\n",
    "    print(cards_df.dropna(subset=\"worldcat_result\").iloc[idx[0], 4])\n",
    "    sample = cards_df.dropna(subset=\"worldcat_result\").iloc[idx[0], -4]\n",
    "    f001s = [print(x.get_fields(\"001\")[0]) for x in [list(sample.values())[x] for x in idx[1:]]]"
   ]
  },
  {
   "cell_type": "code",
   "execution_count": null,
   "id": "328534e2",
   "metadata": {
    "scrolled": true
   },
   "outputs": [],
   "source": [
    "sample1 = cards_df.dropna(subset=\"worldcat_result\").iloc[6, -4]\n",
    "[print(x.get_fields(\"001\")[0]) for x in sample1.values()]"
   ]
  },
  {
   "cell_type": "markdown",
   "id": "ddf68708",
   "metadata": {},
   "source": [
    "### Result selection"
   ]
  },
  {
   "cell_type": "markdown",
   "id": "89160444",
   "metadata": {},
   "source": [
    "Once the results are back from Worldcat we need to pick which to use if multiple have been returned. For Urdu this is less of an issue as there are fewer results returned. For Chinese there are in some instances upwards of 500 records so we do need to select.\n",
    "\n",
    "Victoria Morris suggested:\n",
    "- Leader position 17\n",
    "    - Encoding level, avoid 3/5/7\n",
    "- 016 where \\$2 subfield contains Uk (existing BL holding)\n",
    "    - 16 is National bibliographic agency control number, $2Uk indicates it's the BL\n",
    "- 040 \n",
    "    - Cataloguing source (if \"OCLC\" appears lots of times then that's good)\n",
    "- 042\n",
    "    - Authentication code (quality control process)\n",
    "- 100/110 and 245 (Searching on these)\n",
    "    - Author/Corporate Author and Title\n",
    "- 264/260\n",
    "    - Old/new format publication information - 260 preferable to 264\n",
    "- 300\n",
    "    - Physical description\n",
    "- 6XX \n",
    "    - Subject access\n",
    "- 880 fields (linked to 100/245 or otherwise)\n",
    "    - Linked to other fields, indicating original text formats"
   ]
  },
  {
   "cell_type": "code",
   "execution_count": null,
   "id": "33e6a89a",
   "metadata": {},
   "outputs": [],
   "source": [
    "def n_str(record, string):\n",
    "    if type(record) is Record:\n",
    "        f040 = record.get_fields(\"040\")[0].text().split(\" \")\n",
    "        oclc_occurences = sum([1 for x in f040 if string in x])\n",
    "        return oclc_occurences\n",
    "    else:\n",
    "        return None\n",
    "\n",
    "    \n",
    "def len_record(record):\n",
    "    return len(record.get_fields())\n",
    "\n",
    "\n",
    "def apply_n_str(x, string):\n",
    "    if type(x) is dict:\n",
    "        return [n_str(v, string) for v in x.values()]\n",
    "    else:\n",
    "        return None\n",
    "\n",
    "    \n",
    "def apply_len_record(x):\n",
    "    if type(x) is dict:\n",
    "        return [len_record(v) for v in x.values()]\n",
    "    else:\n",
    "        return None\n",
    "    \n",
    "    \n",
    "def blx_holdings_exist(record):\n",
    "    no_holdings = \"NO HOLDINGS IN BLX\" in record.get_fields(\"948\")[0].text()\n",
    "    if record.get_fields(\"016\"):\n",
    "        bl_system_number = \"$2Uk\" not in record.get_fields(\"016\")[0].__str__()\n",
    "    if no_holdings or bl_system_number:\n",
    "        return 0\n",
    "    else:\n",
    "        return 1"
   ]
  },
  {
   "cell_type": "code",
   "execution_count": null,
   "id": "58c0e450",
   "metadata": {},
   "outputs": [],
   "source": [
    "len(all_records)"
   ]
  },
  {
   "cell_type": "code",
   "execution_count": null,
   "id": "a38ac708",
   "metadata": {},
   "outputs": [],
   "source": [
    "blx_holdings = [blx_holdings_exist(r) for r in all_records]"
   ]
  },
  {
   "cell_type": "code",
   "execution_count": null,
   "id": "1afeaf84",
   "metadata": {},
   "outputs": [],
   "source": [
    "sum(blx_holdings)"
   ]
  },
  {
   "cell_type": "code",
   "execution_count": null,
   "id": "35568502",
   "metadata": {},
   "outputs": [],
   "source": [
    "oclc_count = res.apply(apply_n_str, string=\"OCLC\")\n",
    "bl_count = res.apply(apply_n_str, string=\"BLX\")\n",
    "record_len = res.apply(apply_len_record)"
   ]
  },
  {
   "cell_type": "code",
   "execution_count": null,
   "id": "99839f2f",
   "metadata": {},
   "outputs": [],
   "source": [
    "cards_df[\"040_oclc_count\"] = oclc_count\n",
    "cards_df[\"040_bl_count\"] = bl_count\n",
    "cards_df[\"record_len\"] = record_len"
   ]
  },
  {
   "cell_type": "code",
   "execution_count": null,
   "id": "5e02a9b5",
   "metadata": {},
   "outputs": [],
   "source": [
    "sum(cards_df['040_bl_count'].dropna().sum())"
   ]
  },
  {
   "cell_type": "code",
   "execution_count": null,
   "id": "e22e5e96",
   "metadata": {},
   "outputs": [],
   "source": [
    "record_len.dropna().apply(lambda x: len(x)).describe()"
   ]
  },
  {
   "cell_type": "code",
   "execution_count": null,
   "id": "4599790a",
   "metadata": {},
   "outputs": [],
   "source": [
    "record_len.dropna().apply(lambda x: len(x)).hist(bins=40)"
   ]
  },
  {
   "cell_type": "code",
   "execution_count": null,
   "id": "54a720cf",
   "metadata": {},
   "outputs": [],
   "source": [
    "cards_df.dropna(subset=[\"040_oclc_count\"])"
   ]
  },
  {
   "cell_type": "code",
   "execution_count": null,
   "id": "0141a795",
   "metadata": {},
   "outputs": [],
   "source": [
    "oclc_count_df = pd.DataFrame(\n",
    "    data={\n",
    "        \"040_oclc_count\": cards_df['040_oclc_count'].dropna().sum(),\n",
    "        \"record_len\": cards_df['record_len'].dropna().sum(),\n",
    "    }\n",
    ")"
   ]
  },
  {
   "cell_type": "code",
   "execution_count": null,
   "id": "e256966f",
   "metadata": {},
   "outputs": [],
   "source": [
    "oclc_count_df.shape"
   ]
  },
  {
   "cell_type": "code",
   "execution_count": null,
   "id": "83406a07",
   "metadata": {},
   "outputs": [],
   "source": [
    "fig, ax = plt.subplots(figsize=(12,8))\n",
    "ax.scatter(\"record_len\", \"040_oclc_count\", data=oclc_count_df)\n",
    "ax.set_xlabel(\"Fields in record\", fontsize='x-large')\n",
    "ax.set_ylabel(\"Occurences of 'OCLC' in MARC field 040\", fontsize='x-large')\n",
    "ax.set_title(\"Relationship between number of occurences of 'OCLC'\\nin MARC field 040 in a record and total fields in a record\", fontsize=\"x-large\")\n",
    "ax.tick_params(labelsize=\"x-large\")"
   ]
  },
  {
   "cell_type": "code",
   "execution_count": null,
   "id": "6b834bc1",
   "metadata": {},
   "outputs": [],
   "source": [
    "# fig.savefig(\"..//reports//figures//OCLC_record_length.png\", dpi=300, bbox_inches=\"tight\")"
   ]
  }
 ],
 "metadata": {
  "kernelspec": {
   "display_name": "Python [conda env:cac]",
   "language": "python",
   "name": "conda-env-cac-py"
  },
  "language_info": {
   "codemirror_mode": {
    "name": "ipython",
    "version": 3
   },
   "file_extension": ".py",
   "mimetype": "text/x-python",
   "name": "python",
   "nbconvert_exporter": "python",
   "pygments_lexer": "ipython3",
   "version": "3.8.16"
  }
 },
 "nbformat": 4,
 "nbformat_minor": 5
}
