{
 "cells": [
  {
   "cell_type": "code",
   "execution_count": null,
   "id": "7b0e1cde",
   "metadata": {},
   "outputs": [],
   "source": [
    "import sys\n",
    "if \"../\" not in sys.path:\n",
    "    sys.path.append(\"../\")\n",
    "from TranskribusPyClient.src.TranskribusPyClient import client"
   ]
  },
  {
   "cell_type": "code",
   "execution_count": null,
   "id": "c651412b",
   "metadata": {},
   "outputs": [],
   "source": [
    "login, pwd = client.getStoredCredentials()"
   ]
  },
  {
   "cell_type": "code",
   "execution_count": null,
   "id": "d2b2af12",
   "metadata": {},
   "outputs": [],
   "source": [
    "c = client.TranskribusClient()"
   ]
  },
  {
   "cell_type": "code",
   "execution_count": null,
   "id": "ab7a1d4a",
   "metadata": {},
   "outputs": [],
   "source": [
    "c.auth_login(sLogin=login, sPwd=pwd)"
   ]
  },
  {
   "cell_type": "code",
   "execution_count": null,
   "id": "a8675803",
   "metadata": {},
   "outputs": [],
   "source": [
    "p5_docs = c.listDocsByCollectionId(150453)"
   ]
  },
  {
   "cell_type": "code",
   "execution_count": null,
   "id": "43bb067a",
   "metadata": {},
   "outputs": [],
   "source": [
    "len(p5_docs)"
   ]
  },
  {
   "cell_type": "code",
   "execution_count": null,
   "id": "5c35a260",
   "metadata": {},
   "outputs": [],
   "source": [
    "[x[\"title\"] for x in p5_docs]"
   ]
  },
  {
   "cell_type": "code",
   "execution_count": null,
   "id": "934d78f1",
   "metadata": {},
   "outputs": [],
   "source": [
    "p5 = p5_docs[0]"
   ]
  },
  {
   "cell_type": "code",
   "execution_count": null,
   "id": "c211779a",
   "metadata": {},
   "outputs": [],
   "source": [
    "p5"
   ]
  },
  {
   "cell_type": "code",
   "execution_count": null,
   "id": "c7735bde",
   "metadata": {},
   "outputs": [],
   "source": [
    "c.getDocById(colId=150453, docId=1016992)"
   ]
  },
  {
   "cell_type": "code",
   "execution_count": null,
   "id": "308c04ed",
   "metadata": {},
   "outputs": [],
   "source": [
    "c.download_collection(colId=150453, collDir=\"..\\\\data\\\\raw\\\\chinese\", sDocId=1016992)"
   ]
  }
 ],
 "metadata": {
  "kernelspec": {
   "display_name": "Python [conda env:cac]",
   "language": "python",
   "name": "conda-env-cac-py"
  },
  "language_info": {
   "codemirror_mode": {
    "name": "ipython",
    "version": 3
   },
   "file_extension": ".py",
   "mimetype": "text/x-python",
   "name": "python",
   "nbconvert_exporter": "python",
   "pygments_lexer": "ipython3",
   "version": "3.11.5"
  }
 },
 "nbformat": 4,
 "nbformat_minor": 5
}
